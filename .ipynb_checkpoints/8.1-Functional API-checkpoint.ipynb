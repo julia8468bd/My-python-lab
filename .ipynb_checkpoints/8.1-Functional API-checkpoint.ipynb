{
 "cells": [
  {
   "cell_type": "markdown",
   "metadata": {},
   "source": [
    "## 資料前處理"
   ]
  },
  {
   "cell_type": "code",
   "execution_count": 1,
   "metadata": {},
   "outputs": [
    {
     "name": "stderr",
     "output_type": "stream",
     "text": [
      "Using TensorFlow backend.\n"
     ]
    }
   ],
   "source": [
    "import keras"
   ]
  },
  {
   "cell_type": "code",
   "execution_count": 2,
   "metadata": {},
   "outputs": [],
   "source": [
    "%matplotlib inline\n",
    "import numpy as np\n",
    "import matplotlib.pyplot as plt"
   ]
  },
  {
   "cell_type": "code",
   "execution_count": 3,
   "metadata": {},
   "outputs": [],
   "source": [
    "from keras.layers import Dense, Activation\n",
    "from keras.optimizers import SGD"
   ]
  },
  {
   "cell_type": "code",
   "execution_count": 4,
   "metadata": {},
   "outputs": [],
   "source": [
    "from keras.datasets import mnist\n",
    "from keras.utils import np_utils"
   ]
  },
  {
   "cell_type": "code",
   "execution_count": 5,
   "metadata": {},
   "outputs": [],
   "source": [
    "(x_train, y_train),(x_test, y_test) = mnist.load_data()"
   ]
  },
  {
   "cell_type": "code",
   "execution_count": 6,
   "metadata": {},
   "outputs": [],
   "source": [
    "x_train = x_train.reshape(60000, 784)\n",
    "x_test = x_test.reshape(10000, 784)"
   ]
  },
  {
   "cell_type": "code",
   "execution_count": 7,
   "metadata": {},
   "outputs": [
    {
     "name": "stdout",
     "output_type": "stream",
     "text": [
      "(60000, 784) (10000, 784)\n"
     ]
    }
   ],
   "source": [
    "print(x_train.shape, x_test.shape)"
   ]
  },
  {
   "cell_type": "code",
   "execution_count": 8,
   "metadata": {},
   "outputs": [],
   "source": [
    "y_train = np_utils.to_categorical(y_train, 10)\n",
    "y_test = np_utils.to_categorical(y_test, 10)"
   ]
  },
  {
   "cell_type": "markdown",
   "metadata": {},
   "source": [
    "## 使用Functional API、會分岔的神經網路"
   ]
  },
  {
   "cell_type": "code",
   "execution_count": 9,
   "metadata": {},
   "outputs": [],
   "source": [
    "from keras.models import Model"
   ]
  },
  {
   "cell_type": "code",
   "execution_count": 10,
   "metadata": {},
   "outputs": [],
   "source": [
    "from keras.layers import Input"
   ]
  },
  {
   "cell_type": "markdown",
   "metadata": {},
   "source": [
    "#### 使用跟上星期做得最好的神經網路相似的層數與個數(激活函數relu、損失函數crossentropy、優化器SGD)\n",
    "\n",
    "#### 但中間將隱藏層分岔，而不是全為線性堆疊"
   ]
  },
  {
   "cell_type": "code",
   "execution_count": 11,
   "metadata": {},
   "outputs": [],
   "source": [
    "f_1 = Dense(100, activation='relu')\n",
    "f_2 = Dense(500, activation='relu')\n",
    "f_3 = Dense(250, activation='relu')\n",
    "f_4 = Dense(10, activation='softmax')"
   ]
  },
  {
   "cell_type": "code",
   "execution_count": 12,
   "metadata": {},
   "outputs": [
    {
     "data": {
      "text/plain": [
       "<tf.Tensor 'input_1:0' shape=(?, 784) dtype=float32>"
      ]
     },
     "execution_count": 12,
     "metadata": {},
     "output_type": "execute_result"
    }
   ],
   "source": [
    "x = Input(shape=(784, )) #？代表batch_size\n",
    "x"
   ]
  },
  {
   "cell_type": "code",
   "execution_count": 13,
   "metadata": {},
   "outputs": [],
   "source": [
    "#架構神經網路\n",
    "from keras.layers import concatenate,add\n",
    "\n",
    "h_1 = f_1(x)\n",
    "h_2 = f_2(h_1)\n",
    "h_3 = f_3(h_1)\n",
    "\n",
    "u=concatenate([h_2,h_3])\n",
    "y=f_4(u)"
   ]
  },
  {
   "cell_type": "code",
   "execution_count": 14,
   "metadata": {},
   "outputs": [
    {
     "name": "stdout",
     "output_type": "stream",
     "text": [
      "__________________________________________________________________________________________________\n",
      "Layer (type)                    Output Shape         Param #     Connected to                     \n",
      "==================================================================================================\n",
      "input_1 (InputLayer)            (None, 784)          0                                            \n",
      "__________________________________________________________________________________________________\n",
      "dense_1 (Dense)                 (None, 100)          78500       input_1[0][0]                    \n",
      "__________________________________________________________________________________________________\n",
      "dense_2 (Dense)                 (None, 500)          50500       dense_1[0][0]                    \n",
      "__________________________________________________________________________________________________\n",
      "dense_3 (Dense)                 (None, 250)          25250       dense_1[0][0]                    \n",
      "__________________________________________________________________________________________________\n",
      "concatenate_1 (Concatenate)     (None, 750)          0           dense_2[0][0]                    \n",
      "                                                                 dense_3[0][0]                    \n",
      "__________________________________________________________________________________________________\n",
      "dense_4 (Dense)                 (None, 10)           7510        concatenate_1[0][0]              \n",
      "==================================================================================================\n",
      "Total params: 161,760\n",
      "Trainable params: 161,760\n",
      "Non-trainable params: 0\n",
      "__________________________________________________________________________________________________\n"
     ]
    }
   ],
   "source": [
    "model = Model(x, y)\n",
    "model.summary()"
   ]
  },
  {
   "cell_type": "code",
   "execution_count": 15,
   "metadata": {},
   "outputs": [],
   "source": [
    "model.compile(loss='categorical_crossentropy', optimizer=SGD(lr=0.0005), metrics=['acc'])"
   ]
  },
  {
   "cell_type": "code",
   "execution_count": 22,
   "metadata": {},
   "outputs": [],
   "source": [
    "from keras.utils.vis_utils import plot_model\n",
    "plot_model(model, to_file='Model3.png', show_shapes=True, show_layer_names=True)"
   ]
  },
  {
   "cell_type": "markdown",
   "metadata": {},
   "source": [
    "![模型](Model3.png)"
   ]
  },
  {
   "cell_type": "code",
   "execution_count": 17,
   "metadata": {},
   "outputs": [],
   "source": [
    "from keras.callbacks import EarlyStopping\n",
    "early_stopping = EarlyStopping(monitor='val_loss', patience=5, verbose=2)"
   ]
  },
  {
   "cell_type": "code",
   "execution_count": 18,
   "metadata": {},
   "outputs": [
    {
     "name": "stdout",
     "output_type": "stream",
     "text": [
      "Train on 54000 samples, validate on 6000 samples\n",
      "Epoch 1/50\n",
      "54000/54000 [==============================] - 2s 28us/step - loss: 5.3982 - acc: 0.6323 - val_loss: 2.6420 - val_acc: 0.8152\n",
      "Epoch 2/50\n",
      "54000/54000 [==============================] - 1s 26us/step - loss: 2.8101 - acc: 0.8032 - val_loss: 2.4401 - val_acc: 0.8275\n",
      "Epoch 3/50\n",
      "54000/54000 [==============================] - 1s 26us/step - loss: 2.5233 - acc: 0.8247 - val_loss: 2.2087 - val_acc: 0.8487\n",
      "Epoch 4/50\n",
      "54000/54000 [==============================] - 1s 25us/step - loss: 1.6913 - acc: 0.8746 - val_loss: 0.7313 - val_acc: 0.9365\n",
      "Epoch 5/50\n",
      "54000/54000 [==============================] - 1s 26us/step - loss: 0.8209 - acc: 0.9296 - val_loss: 0.8115 - val_acc: 0.9305\n",
      "Epoch 6/50\n",
      "54000/54000 [==============================] - 1s 26us/step - loss: 0.6886 - acc: 0.9405 - val_loss: 0.6470 - val_acc: 0.9453\n",
      "Epoch 7/50\n",
      "54000/54000 [==============================] - 1s 25us/step - loss: 0.6079 - acc: 0.9474 - val_loss: 0.5918 - val_acc: 0.9462\n",
      "Epoch 8/50\n",
      "54000/54000 [==============================] - 1s 25us/step - loss: 0.5410 - acc: 0.9529 - val_loss: 0.5456 - val_acc: 0.9492\n",
      "Epoch 9/50\n",
      "54000/54000 [==============================] - 1s 26us/step - loss: 0.4967 - acc: 0.9570 - val_loss: 0.5122 - val_acc: 0.9533\n",
      "Epoch 10/50\n",
      "54000/54000 [==============================] - 2s 29us/step - loss: 0.4521 - acc: 0.9601 - val_loss: 0.5018 - val_acc: 0.9532\n",
      "Epoch 11/50\n",
      "54000/54000 [==============================] - 2s 29us/step - loss: 0.4102 - acc: 0.9631 - val_loss: 0.4687 - val_acc: 0.9563\n",
      "Epoch 12/50\n",
      "54000/54000 [==============================] - 1s 27us/step - loss: 0.3765 - acc: 0.9674 - val_loss: 0.4595 - val_acc: 0.9535\n",
      "Epoch 13/50\n",
      "54000/54000 [==============================] - 1s 26us/step - loss: 0.3463 - acc: 0.9694 - val_loss: 0.4553 - val_acc: 0.9573\n",
      "Epoch 14/50\n",
      "54000/54000 [==============================] - 1s 25us/step - loss: 0.3283 - acc: 0.9714 - val_loss: 0.4316 - val_acc: 0.9587\n",
      "Epoch 15/50\n",
      "54000/54000 [==============================] - 1s 27us/step - loss: 0.3094 - acc: 0.9725 - val_loss: 0.4411 - val_acc: 0.9568\n",
      "Epoch 16/50\n",
      "54000/54000 [==============================] - 1s 26us/step - loss: 0.2897 - acc: 0.9751 - val_loss: 0.4623 - val_acc: 0.9558\n",
      "Epoch 17/50\n",
      "54000/54000 [==============================] - 1s 25us/step - loss: 0.2765 - acc: 0.9760 - val_loss: 0.4241 - val_acc: 0.9577\n",
      "Epoch 18/50\n",
      "54000/54000 [==============================] - 1s 27us/step - loss: 0.2695 - acc: 0.9764 - val_loss: 0.4325 - val_acc: 0.9567\n",
      "Epoch 19/50\n",
      "54000/54000 [==============================] - 1s 26us/step - loss: 0.2514 - acc: 0.9789 - val_loss: 0.4240 - val_acc: 0.9602\n",
      "Epoch 20/50\n",
      "54000/54000 [==============================] - 1s 27us/step - loss: 0.2404 - acc: 0.9791 - val_loss: 0.4014 - val_acc: 0.9617\n",
      "Epoch 21/50\n",
      "54000/54000 [==============================] - 1s 26us/step - loss: 0.2307 - acc: 0.9809 - val_loss: 0.4104 - val_acc: 0.9607\n",
      "Epoch 22/50\n",
      "54000/54000 [==============================] - 1s 26us/step - loss: 0.2229 - acc: 0.9812 - val_loss: 0.4225 - val_acc: 0.9582\n",
      "Epoch 23/50\n",
      "54000/54000 [==============================] - 1s 26us/step - loss: 0.2140 - acc: 0.9820 - val_loss: 0.3976 - val_acc: 0.9603\n",
      "Epoch 24/50\n",
      "54000/54000 [==============================] - 1s 26us/step - loss: 0.2034 - acc: 0.9841 - val_loss: 0.3937 - val_acc: 0.9620\n",
      "Epoch 25/50\n",
      "54000/54000 [==============================] - 1s 26us/step - loss: 0.1984 - acc: 0.9845 - val_loss: 0.3926 - val_acc: 0.9617\n",
      "Epoch 26/50\n",
      "54000/54000 [==============================] - 1s 26us/step - loss: 0.1940 - acc: 0.9853 - val_loss: 0.3856 - val_acc: 0.9610\n",
      "Epoch 27/50\n",
      "54000/54000 [==============================] - 1s 26us/step - loss: 0.1878 - acc: 0.9864 - val_loss: 0.3803 - val_acc: 0.9627\n",
      "Epoch 28/50\n",
      "54000/54000 [==============================] - 1s 27us/step - loss: 0.1835 - acc: 0.9874 - val_loss: 0.3797 - val_acc: 0.9628\n",
      "Epoch 29/50\n",
      "54000/54000 [==============================] - 1s 26us/step - loss: 0.1825 - acc: 0.9874 - val_loss: 0.3832 - val_acc: 0.9625\n",
      "Epoch 30/50\n",
      "54000/54000 [==============================] - 1s 26us/step - loss: 0.1804 - acc: 0.9877 - val_loss: 0.3833 - val_acc: 0.9627\n",
      "Epoch 31/50\n",
      "54000/54000 [==============================] - 1s 26us/step - loss: 0.1783 - acc: 0.9884 - val_loss: 0.3807 - val_acc: 0.9633\n",
      "Epoch 32/50\n",
      "54000/54000 [==============================] - 1s 27us/step - loss: 0.1769 - acc: 0.9885 - val_loss: 0.3822 - val_acc: 0.9627\n",
      "Epoch 33/50\n",
      "54000/54000 [==============================] - 1s 26us/step - loss: 0.1756 - acc: 0.9888 - val_loss: 0.3815 - val_acc: 0.9625\n",
      "Epoch 00033: early stopping\n"
     ]
    }
   ],
   "source": [
    "model_h = model.fit(x_train, y_train, batch_size=100, epochs=50, validation_split=0.1, callbacks=[early_stopping])"
   ]
  },
  {
   "cell_type": "code",
   "execution_count": 19,
   "metadata": {},
   "outputs": [
    {
     "data": {
      "image/png": "[encoded data removed]",
      "text/plain": [
       "<Figure size 432x288 with 1 Axes>"
      ]
     },
     "metadata": {},
     "output_type": "display_data"
    }
   ],
   "source": [
    "plt.plot(model_h.history['acc'])\n",
    "plt.xlabel(\"epochs\")\n",
    "plt.ylabel(\"accuracy\")\n",
    "plt.show()"
   ]
  },
  {
   "cell_type": "markdown",
   "metadata": {},
   "source": [
    "## training data的訓練成果"
   ]
  },
  {
   "cell_type": "code",
   "execution_count": 20,
   "metadata": {
    "scrolled": true
   },
   "outputs": [
    {
     "name": "stdout",
     "output_type": "stream",
     "text": [
      "Train data：\n",
      "             precision    recall  f1-score   support\n",
      "\n",
      "          0       0.99      0.99      0.99      5923\n",
      "          1       0.99      0.99      0.99      6742\n",
      "          2       0.98      0.99      0.98      5958\n",
      "          3       0.98      0.98      0.98      6131\n",
      "          4       0.99      0.98      0.99      5842\n",
      "          5       0.99      0.98      0.98      5421\n",
      "          6       0.99      0.99      0.99      5918\n",
      "          7       0.98      0.99      0.99      6265\n",
      "          8       0.98      0.98      0.98      5851\n",
      "          9       0.98      0.98      0.98      5949\n",
      "\n",
      "avg / total       0.99      0.99      0.99     60000\n",
      "\n"
     ]
    },
    {
     "data": {
      "text/plain": [
       "0.98595"
      ]
     },
     "execution_count": 20,
     "metadata": {},
     "output_type": "execute_result"
    }
   ],
   "source": [
    "from sklearn import metrics \n",
    "from sklearn.metrics import classification_report\n",
    "\n",
    "print(\"Train data：\")\n",
    "print(classification_report(y_train.argmax(1), model.predict(x_train).argmax(1)))\n",
    "metrics.accuracy_score(y_train.argmax(1), model.predict(x_train).argmax(1))"
   ]
  },
  {
   "cell_type": "markdown",
   "metadata": {},
   "source": [
    "## 預測testing data的成果"
   ]
  },
  {
   "cell_type": "code",
   "execution_count": 21,
   "metadata": {},
   "outputs": [
    {
     "name": "stdout",
     "output_type": "stream",
     "text": [
      "Test data：\n",
      "             precision    recall  f1-score   support\n",
      "\n",
      "          0       0.97      0.97      0.97       980\n",
      "          1       0.98      0.98      0.98      1135\n",
      "          2       0.95      0.95      0.95      1032\n",
      "          3       0.94      0.96      0.95      1010\n",
      "          4       0.96      0.94      0.95       982\n",
      "          5       0.95      0.94      0.94       892\n",
      "          6       0.96      0.96      0.96       958\n",
      "          7       0.94      0.96      0.95      1028\n",
      "          8       0.95      0.95      0.95       974\n",
      "          9       0.95      0.93      0.94      1009\n",
      "\n",
      "avg / total       0.96      0.96      0.96     10000\n",
      "\n"
     ]
    },
    {
     "data": {
      "text/plain": [
       "0.9554"
      ]
     },
     "execution_count": 21,
     "metadata": {},
     "output_type": "execute_result"
    }
   ],
   "source": [
    "print(\"Test data：\")\n",
    "print(classification_report(y_test.argmax(1), model.predict(x_test).argmax(1)))\n",
    "metrics.accuracy_score(y_test.argmax(1), model.predict(x_test).argmax(1))"
   ]
  },
  {
   "cell_type": "code",
   "execution_count": null,
   "metadata": {},
   "outputs": [],
   "source": []
  },
  {
   "cell_type": "code",
   "execution_count": null,
   "metadata": {},
   "outputs": [],
   "source": []
  }
 ],
 "metadata": {
  "kernelspec": {
   "display_name": "Python 3",
   "language": "python",
   "name": "python3"
  },
  "language_info": {
   "codemirror_mode": {
    "name": "ipython",
    "version": 3
   },
   "file_extension": ".py",
   "mimetype": "text/x-python",
   "name": "python",
   "nbconvert_exporter": "python",
   "pygments_lexer": "ipython3",
   "version": "3.5.5"
  }
 },
 "nbformat": 4,
 "nbformat_minor": 2
}
