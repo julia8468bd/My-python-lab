{
 "cells": [
  {
   "cell_type": "markdown",
   "metadata": {},
   "source": [
    "## 資料前處理"
   ]
  },
  {
   "cell_type": "code",
   "execution_count": 1,
   "metadata": {},
   "outputs": [
    {
     "name": "stderr",
     "output_type": "stream",
     "text": [
      "Using TensorFlow backend.\n"
     ]
    }
   ],
   "source": [
    "import keras"
   ]
  },
  {
   "cell_type": "code",
   "execution_count": 2,
   "metadata": {},
   "outputs": [],
   "source": [
    "%matplotlib inline\n",
    "import numpy as np\n",
    "import matplotlib.pyplot as plt"
   ]
  },
  {
   "cell_type": "code",
   "execution_count": 3,
   "metadata": {},
   "outputs": [],
   "source": [
    "from keras.layers import Dense, Activation\n",
    "from keras.optimizers import SGD"
   ]
  },
  {
   "cell_type": "code",
   "execution_count": 4,
   "metadata": {},
   "outputs": [],
   "source": [
    "from keras.datasets import mnist\n",
    "from keras.utils import np_utils"
   ]
  },
  {
   "cell_type": "code",
   "execution_count": 5,
   "metadata": {},
   "outputs": [],
   "source": [
    "(x_train, y_train),(x_test, y_test) = mnist.load_data()"
   ]
  },
  {
   "cell_type": "code",
   "execution_count": 6,
   "metadata": {},
   "outputs": [],
   "source": [
    "x_train = x_train.reshape(60000, 784)\n",
    "x_test = x_test.reshape(10000, 784)"
   ]
  },
  {
   "cell_type": "code",
   "execution_count": 7,
   "metadata": {},
   "outputs": [
    {
     "name": "stdout",
     "output_type": "stream",
     "text": [
      "(60000, 784) (10000, 784)\n"
     ]
    }
   ],
   "source": [
    "print(x_train.shape, x_test.shape)"
   ]
  },
  {
   "cell_type": "code",
   "execution_count": 8,
   "metadata": {},
   "outputs": [],
   "source": [
    "y_train = np_utils.to_categorical(y_train, 10)\n",
    "y_test = np_utils.to_categorical(y_test, 10)"
   ]
  },
  {
   "cell_type": "markdown",
   "metadata": {},
   "source": [
    "## 使用Functional API、會分岔的神經網路"
   ]
  },
  {
   "cell_type": "code",
   "execution_count": 9,
   "metadata": {},
   "outputs": [],
   "source": [
    "from keras.models import Model"
   ]
  },
  {
   "cell_type": "code",
   "execution_count": 10,
   "metadata": {},
   "outputs": [],
   "source": [
    "from keras.layers import Input"
   ]
  },
  {
   "cell_type": "markdown",
   "metadata": {},
   "source": [
    "#### 使用跟上星期做得最好的神經網路相似的層數與個數(激活函數relu、損失函數crossentropy、優化器SGD)\n",
    "\n",
    "#### 但中間將2層隱藏層分岔，而不是全為線性堆疊"
   ]
  },
  {
   "cell_type": "code",
   "execution_count": 32,
   "metadata": {},
   "outputs": [],
   "source": [
    "f_1 = Dense(100, activation='relu')\n",
    "f_2 = Dense(500, activation='relu')\n",
    "f_3 = Dense(250, activation='relu')\n",
    "f_4 = Dense(10, activation='softmax')"
   ]
  },
  {
   "cell_type": "code",
   "execution_count": 33,
   "metadata": {},
   "outputs": [
    {
     "data": {
      "text/plain": [
       "<tf.Tensor 'input_4:0' shape=(?, 784) dtype=float32>"
      ]
     },
     "execution_count": 33,
     "metadata": {},
     "output_type": "execute_result"
    }
   ],
   "source": [
    "x = Input(shape=(784, )) #？代表batch_size\n",
    "x"
   ]
  },
  {
   "cell_type": "code",
   "execution_count": 34,
   "metadata": {},
   "outputs": [],
   "source": [
    "#架構神經網路\n",
    "from keras.layers import concatenate,add\n",
    "\n",
    "h_1 = f_1(x)\n",
    "h_2 = f_2(h_1)\n",
    "h_3 = f_3(h_2)\n",
    "\n",
    "u=concatenate([h_2,h_3])\n",
    "y=f_4(u)"
   ]
  },
  {
   "cell_type": "code",
   "execution_count": 35,
   "metadata": {},
   "outputs": [
    {
     "name": "stdout",
     "output_type": "stream",
     "text": [
      "__________________________________________________________________________________________________\n",
      "Layer (type)                    Output Shape         Param #     Connected to                     \n",
      "==================================================================================================\n",
      "input_4 (InputLayer)            (None, 784)          0                                            \n",
      "__________________________________________________________________________________________________\n",
      "dense_13 (Dense)                (None, 100)          78500       input_4[0][0]                    \n",
      "__________________________________________________________________________________________________\n",
      "dense_14 (Dense)                (None, 500)          50500       dense_13[0][0]                   \n",
      "__________________________________________________________________________________________________\n",
      "dense_15 (Dense)                (None, 250)          125250      dense_14[0][0]                   \n",
      "__________________________________________________________________________________________________\n",
      "concatenate_4 (Concatenate)     (None, 750)          0           dense_14[0][0]                   \n",
      "                                                                 dense_15[0][0]                   \n",
      "__________________________________________________________________________________________________\n",
      "dense_16 (Dense)                (None, 10)           7510        concatenate_4[0][0]              \n",
      "==================================================================================================\n",
      "Total params: 261,760\n",
      "Trainable params: 261,760\n",
      "Non-trainable params: 0\n",
      "__________________________________________________________________________________________________\n"
     ]
    }
   ],
   "source": [
    "model = Model(x, y)\n",
    "model.summary()"
   ]
  },
  {
   "cell_type": "code",
   "execution_count": 36,
   "metadata": {},
   "outputs": [],
   "source": [
    "model.compile(loss='categorical_crossentropy', optimizer=SGD(lr=0.0005), metrics=['acc'])"
   ]
  },
  {
   "cell_type": "code",
   "execution_count": 37,
   "metadata": {},
   "outputs": [],
   "source": [
    "from keras.callbacks import EarlyStopping\n",
    "early_stopping = EarlyStopping(monitor='val_loss', patience=5, verbose=2)"
   ]
  },
  {
   "cell_type": "code",
   "execution_count": 38,
   "metadata": {},
   "outputs": [
    {
     "name": "stdout",
     "output_type": "stream",
     "text": [
      "Train on 54000 samples, validate on 6000 samples\n",
      "Epoch 1/50\n",
      "54000/54000 [==============================] - 2s 40us/step - loss: 6.8546 - acc: 0.5479 - val_loss: 5.6476 - val_acc: 0.6318\n",
      "Epoch 2/50\n",
      "54000/54000 [==============================] - 2s 37us/step - loss: 5.5664 - acc: 0.6366 - val_loss: 5.4612 - val_acc: 0.6480\n",
      "Epoch 3/50\n",
      "54000/54000 [==============================] - 2s 40us/step - loss: 4.2683 - acc: 0.7135 - val_loss: 3.7497 - val_acc: 0.7480\n",
      "Epoch 4/50\n",
      "54000/54000 [==============================] - 2s 36us/step - loss: 2.8225 - acc: 0.7985 - val_loss: 0.7980 - val_acc: 0.9233\n",
      "Epoch 5/50\n",
      "54000/54000 [==============================] - 2s 36us/step - loss: 0.8359 - acc: 0.9190 - val_loss: 0.7242 - val_acc: 0.9312\n",
      "Epoch 6/50\n",
      "54000/54000 [==============================] - 2s 37us/step - loss: 0.6462 - acc: 0.9365 - val_loss: 0.5381 - val_acc: 0.9452\n",
      "Epoch 7/50\n",
      "54000/54000 [==============================] - 2s 36us/step - loss: 0.5311 - acc: 0.9462 - val_loss: 0.5002 - val_acc: 0.9482\n",
      "Epoch 8/50\n",
      "54000/54000 [==============================] - 2s 37us/step - loss: 0.4590 - acc: 0.9524 - val_loss: 0.4616 - val_acc: 0.9517\n",
      "Epoch 9/50\n",
      "54000/54000 [==============================] - 2s 37us/step - loss: 0.3959 - acc: 0.9579 - val_loss: 0.4390 - val_acc: 0.9525\n",
      "Epoch 10/50\n",
      "54000/54000 [==============================] - 2s 37us/step - loss: 0.3500 - acc: 0.9626 - val_loss: 0.4043 - val_acc: 0.9568\n",
      "Epoch 11/50\n",
      "54000/54000 [==============================] - 2s 37us/step - loss: 0.3125 - acc: 0.9659 - val_loss: 0.4010 - val_acc: 0.9555\n",
      "Epoch 12/50\n",
      "54000/54000 [==============================] - 2s 37us/step - loss: 0.2821 - acc: 0.9691 - val_loss: 0.3930 - val_acc: 0.9557\n",
      "Epoch 13/50\n",
      "54000/54000 [==============================] - 2s 37us/step - loss: 0.2571 - acc: 0.9724 - val_loss: 0.3971 - val_acc: 0.9570\n",
      "Epoch 14/50\n",
      "54000/54000 [==============================] - 2s 37us/step - loss: 0.2361 - acc: 0.9747 - val_loss: 0.3702 - val_acc: 0.9580\n",
      "Epoch 15/50\n",
      "54000/54000 [==============================] - 2s 37us/step - loss: 0.2193 - acc: 0.9769 - val_loss: 0.3728 - val_acc: 0.9580\n",
      "Epoch 16/50\n",
      "54000/54000 [==============================] - 2s 40us/step - loss: 0.2053 - acc: 0.9793 - val_loss: 0.3575 - val_acc: 0.9577\n",
      "Epoch 17/50\n",
      "54000/54000 [==============================] - 2s 39us/step - loss: 0.1935 - acc: 0.9804 - val_loss: 0.3552 - val_acc: 0.9597\n",
      "Epoch 18/50\n",
      "54000/54000 [==============================] - 2s 37us/step - loss: 0.1825 - acc: 0.9817 - val_loss: 0.3592 - val_acc: 0.9585\n",
      "Epoch 19/50\n",
      "54000/54000 [==============================] - 2s 37us/step - loss: 0.1713 - acc: 0.9836 - val_loss: 0.3564 - val_acc: 0.9590\n",
      "Epoch 20/50\n",
      "54000/54000 [==============================] - 2s 37us/step - loss: 0.1640 - acc: 0.9846 - val_loss: 0.3489 - val_acc: 0.9590\n",
      "Epoch 21/50\n",
      "54000/54000 [==============================] - 2s 38us/step - loss: 0.1565 - acc: 0.9857 - val_loss: 0.3559 - val_acc: 0.9588\n",
      "Epoch 22/50\n",
      "54000/54000 [==============================] - 2s 37us/step - loss: 0.1508 - acc: 0.9863 - val_loss: 0.3421 - val_acc: 0.9613\n",
      "Epoch 23/50\n",
      "54000/54000 [==============================] - 2s 37us/step - loss: 0.1448 - acc: 0.9881 - val_loss: 0.3394 - val_acc: 0.9592\n",
      "Epoch 24/50\n",
      "54000/54000 [==============================] - 2s 37us/step - loss: 0.1406 - acc: 0.9889 - val_loss: 0.3392 - val_acc: 0.9607\n",
      "Epoch 25/50\n",
      "54000/54000 [==============================] - 2s 37us/step - loss: 0.1372 - acc: 0.9895 - val_loss: 0.3406 - val_acc: 0.9607\n",
      "Epoch 26/50\n",
      "54000/54000 [==============================] - 2s 38us/step - loss: 0.1341 - acc: 0.9902 - val_loss: 0.3357 - val_acc: 0.9615\n",
      "Epoch 27/50\n",
      "54000/54000 [==============================] - 2s 38us/step - loss: 0.1319 - acc: 0.9906 - val_loss: 0.3343 - val_acc: 0.9608\n",
      "Epoch 28/50\n",
      "54000/54000 [==============================] - 2s 37us/step - loss: 0.1299 - acc: 0.9913 - val_loss: 0.3353 - val_acc: 0.9613\n",
      "Epoch 29/50\n",
      "54000/54000 [==============================] - 2s 37us/step - loss: 0.1285 - acc: 0.9915 - val_loss: 0.3373 - val_acc: 0.9605\n",
      "Epoch 30/50\n",
      "54000/54000 [==============================] - 2s 37us/step - loss: 0.1275 - acc: 0.9916 - val_loss: 0.3325 - val_acc: 0.9612\n",
      "Epoch 31/50\n",
      "54000/54000 [==============================] - 2s 37us/step - loss: 0.1264 - acc: 0.9918 - val_loss: 0.3337 - val_acc: 0.9610\n",
      "Epoch 32/50\n",
      "54000/54000 [==============================] - 2s 37us/step - loss: 0.1253 - acc: 0.9921 - val_loss: 0.3364 - val_acc: 0.9608\n",
      "Epoch 33/50\n",
      "54000/54000 [==============================] - 2s 37us/step - loss: 0.1248 - acc: 0.9921 - val_loss: 0.3350 - val_acc: 0.9607\n",
      "Epoch 34/50\n",
      "54000/54000 [==============================] - 2s 37us/step - loss: 0.1242 - acc: 0.9921 - val_loss: 0.3350 - val_acc: 0.9610\n",
      "Epoch 35/50\n",
      "54000/54000 [==============================] - 2s 37us/step - loss: 0.1238 - acc: 0.9921 - val_loss: 0.3370 - val_acc: 0.9602\n",
      "Epoch 00035: early stopping\n"
     ]
    }
   ],
   "source": [
    "model_h = model.fit(x_train, y_train, batch_size=100, epochs=50, validation_split=0.1, callbacks=[early_stopping])"
   ]
  },
  {
   "cell_type": "code",
   "execution_count": 43,
   "metadata": {},
   "outputs": [
    {
     "data": {
      "image/png": "[encoded data removed]",
      "text/plain": [
       "<Figure size 432x288 with 1 Axes>"
      ]
     },
     "metadata": {},
     "output_type": "display_data"
    }
   ],
   "source": [
    "plt.plot(model_h.history['acc'])\n",
    "plt.xlabel(\"epochs\")\n",
    "plt.ylabel(\"accuracy\")\n",
    "plt.show()"
   ]
  },
  {
   "cell_type": "markdown",
   "metadata": {},
   "source": [
    "## training data的訓練成果"
   ]
  },
  {
   "cell_type": "code",
   "execution_count": 40,
   "metadata": {
    "scrolled": true
   },
   "outputs": [
    {
     "name": "stdout",
     "output_type": "stream",
     "text": [
      "Train data：\n",
      "             precision    recall  f1-score   support\n",
      "\n",
      "          0       0.99      0.99      0.99      5923\n",
      "          1       1.00      0.99      0.99      6742\n",
      "          2       0.98      0.98      0.98      5958\n",
      "          3       0.98      0.99      0.98      6131\n",
      "          4       0.99      0.99      0.99      5842\n",
      "          5       0.99      0.99      0.99      5421\n",
      "          6       0.99      0.99      0.99      5918\n",
      "          7       0.99      0.99      0.99      6265\n",
      "          8       0.99      0.98      0.99      5851\n",
      "          9       0.99      0.99      0.99      5949\n",
      "\n",
      "avg / total       0.99      0.99      0.99     60000\n",
      "\n"
     ]
    },
    {
     "data": {
      "text/plain": [
       "0.9891333333333333"
      ]
     },
     "execution_count": 40,
     "metadata": {},
     "output_type": "execute_result"
    }
   ],
   "source": [
    "from sklearn import metrics \n",
    "from sklearn.metrics import classification_report\n",
    "\n",
    "print(\"Train data：\")\n",
    "print(classification_report(y_train.argmax(1), model.predict(x_train).argmax(1)))\n",
    "metrics.accuracy_score(y_train.argmax(1), model.predict(x_train).argmax(1))"
   ]
  },
  {
   "cell_type": "markdown",
   "metadata": {},
   "source": [
    "## 預測testing data的成果"
   ]
  },
  {
   "cell_type": "code",
   "execution_count": 41,
   "metadata": {},
   "outputs": [
    {
     "name": "stdout",
     "output_type": "stream",
     "text": [
      "Test data：\n",
      "             precision    recall  f1-score   support\n",
      "\n",
      "          0       0.97      0.97      0.97       980\n",
      "          1       0.99      0.99      0.99      1135\n",
      "          2       0.96      0.94      0.95      1032\n",
      "          3       0.92      0.95      0.94      1010\n",
      "          4       0.94      0.96      0.95       982\n",
      "          5       0.94      0.94      0.94       892\n",
      "          6       0.96      0.96      0.96       958\n",
      "          7       0.95      0.94      0.95      1028\n",
      "          8       0.94      0.94      0.94       974\n",
      "          9       0.94      0.93      0.94      1009\n",
      "\n",
      "avg / total       0.95      0.95      0.95     10000\n",
      "\n"
     ]
    },
    {
     "data": {
      "text/plain": [
       "0.9509"
      ]
     },
     "execution_count": 41,
     "metadata": {},
     "output_type": "execute_result"
    }
   ],
   "source": [
    "print(\"Test data：\")\n",
    "print(classification_report(y_test.argmax(1), model.predict(x_test).argmax(1)))\n",
    "metrics.accuracy_score(y_test.argmax(1), model.predict(x_test).argmax(1))"
   ]
  },
  {
   "cell_type": "code",
   "execution_count": null,
   "metadata": {},
   "outputs": [],
   "source": []
  }
 ],
 "metadata": {
  "kernelspec": {
   "display_name": "Python 3",
   "language": "python",
   "name": "python3"
  },
  "language_info": {
   "codemirror_mode": {
    "name": "ipython",
    "version": 3
   },
   "file_extension": ".py",
   "mimetype": "text/x-python",
   "name": "python",
   "nbconvert_exporter": "python",
   "pygments_lexer": "ipython3",
   "version": "3.5.5"
  }
 },
 "nbformat": 4,
 "nbformat_minor": 2
}
