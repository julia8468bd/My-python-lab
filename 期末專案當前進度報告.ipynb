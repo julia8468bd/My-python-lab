{
 "cells": [
  {
   "cell_type": "markdown",
   "metadata": {},
   "source": [
    "## 主題：Context-Aware Multi-Modal Transportation Recommendation"
   ]
  },
  {
   "cell_type": "markdown",
   "metadata": {},
   "source": [
    "## 組員：林真、林摯烜、陳星宇"
   ]
  },
  {
   "cell_type": "markdown",
   "metadata": {},
   "source": [
    "## 介紹：\n",
    "\n",
    "參加今年度的KDD cup比賽，主要是希望能推薦給每個使用者最合適的交通路線模式，資料來源為百度地圖過去民眾搜尋的紀錄\n",
    "\n",
    "輸入(features)：搜尋時間、起始地、目的地、百度地圖生成可能的路線須花費的距離、價格、時間、交通模式、官方蒐集的個人特徵(年齡、性別...等)\n",
    "\n",
    "輸出(label)：使用者根據官方推薦的路線所選擇點擊的路線(12種交通模式類別)\n",
    "\n",
    "資料量：50萬\n",
    "\n",
    "比賽連結：https://dianshi.baidu.com/competition/29/rule"
   ]
  },
  {
   "cell_type": "markdown",
   "metadata": {},
   "source": [
    "## 目的：推薦給每個使用者最合適的交通路線模式"
   ]
  },
  {
   "cell_type": "markdown",
   "metadata": {},
   "source": [
    "## 實作方法：\n",
    "\n",
    "我們使用python ( Jupyter notebook ) 做為分析環境\n",
    "\n",
    "將起始點、目的地的經緯度與各種可能的交通建議計畫轉為數值形式\n",
    "\n",
    "將資料分為自己的train與test，可觀察是否overfitting\n",
    "\n",
    "測試多種不同的特徵(經處理或未經處理)組合、多種model(Decision tree、LSTM...等)"
   ]
  },
  {
   "cell_type": "markdown",
   "metadata": {},
   "source": [
    "## 專案排程：\n",
    "\n",
    "~5/26 研究Context-Aware Multi-Modal Transportation Recommendation的資料集並整理資料\n",
    "\n",
    "5/26~5/31 測試各種模型\n",
    "\n",
    "5/31~6/3 依照測出的最佳模型開始進行研究如何增進結果\n",
    "\n",
    "6/3~6/6 整理好結果並報告"
   ]
  },
  {
   "cell_type": "markdown",
   "metadata": {},
   "source": [
    "## 目前進度："
   ]
  },
  {
   "cell_type": "markdown",
   "metadata": {},
   "source": [
    "資料處理只將起始點、目的地的經緯度與各種可能的交通建議計畫轉為數值形式。\n",
    "\n",
    "交通建議計畫是將距離、價格、預計到達時間(eta)、交通模式切成一個一個的features，例如：他有3種建議的交通模式，那在計畫這邊便會有3*4=12個features。"
   ]
  },
  {
   "cell_type": "code",
   "execution_count": null,
   "metadata": {},
   "outputs": [],
   "source": []
  }
 ],
 "metadata": {
  "kernelspec": {
   "display_name": "Python 3",
   "language": "python",
   "name": "python3"
  },
  "language_info": {
   "codemirror_mode": {
    "name": "ipython",
    "version": 3
   },
   "file_extension": ".py",
   "mimetype": "text/x-python",
   "name": "python",
   "nbconvert_exporter": "python",
   "pygments_lexer": "ipython3",
   "version": "3.5.5"
  }
 },
 "nbformat": 4,
 "nbformat_minor": 2
}
