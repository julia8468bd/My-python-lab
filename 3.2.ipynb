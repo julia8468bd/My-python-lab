{
 "cells": [
  {
   "cell_type": "code",
   "execution_count": 184,
   "metadata": {},
   "outputs": [
    {
     "name": "stdout",
     "output_type": "stream",
     "text": [
      "[[5 9 5 2 1 5 1 8]\n",
      " [1 9 1 2 5 5 2 7]\n",
      " [7 9 5 9 0 2 9 3]\n",
      " [2 4 2 6 5 0 2 2]\n",
      " [6 5 5 7 5 6 3 8]\n",
      " [8 2 4 7 7 6 4 2]\n",
      " [6 2 8 8 0 0 9 2]\n",
      " [2 5 7 4 2 6 9 9]]\n",
      "請輸入號碼選擇有在矩陣行列內的連續數字，以下至少兩組數字會在矩陣內\n",
      "{1: [3, 1, 7, 9], 2: [9, 9, 4, 5], 3: [1, 2, 8, 3], 4: [1, 3, 7, 5], 5: [5, 9, 0, 2], 6: [7, 9, 3, 8]}\n"
     ]
    },
    {
     "data": {
      "application/vnd.jupyter.widget-view+json": {
       "model_id": "05d3defa09b24406b15e175cba9b8efe",
       "version_major": 2,
       "version_minor": 0
      },
      "text/plain": [
       "interactive(children=(Text(value='請選擇', description='x'), Button(description='Run Interact', style=ButtonStyle…"
      ]
     },
     "metadata": {},
     "output_type": "display_data"
    },
    {
     "data": {
      "text/plain": [
       "<function __main__.select(x)>"
      ]
     },
     "execution_count": 184,
     "metadata": {},
     "output_type": "execute_result"
    }
   ],
   "source": [
    "import numpy as np\n",
    "import pandas as pd\n",
    "import random\n",
    "from ipywidgets import interact_manual\n",
    "\n",
    "A = np.random.randint(0, 10, 64)\n",
    "A = A.reshape(8,8)\n",
    "guess1 = list(np.random.randint(0, 10, 4))\n",
    "guess2 = list(np.random.randint(0, 10, 4))\n",
    "guess3 = list(np.random.randint(0, 10, 4))\n",
    "guess4 = list(np.random.randint(0, 10, 4))\n",
    "ra1 = int(np.random.randint(0, 4, 1))\n",
    "ra2 = int(np.random.randint(0, 4, 1))\n",
    "#因用random選到在8*8矩陣中的4個連數機率太少有兩個從矩陣中抽出\n",
    "s1 = list(A[ra1:ra1+4,ra1])\n",
    "s2 = list(A[ra2,ra2:ra2+4])\n",
    "\n",
    "savelist = [guess1,guess2,guess3,guess4,s1,s2]\n",
    "savelist = random.sample(savelist, 6)#用ramdom.sample打亂順序\n",
    "\n",
    "p = []\n",
    "for j in range(len(A)):\n",
    "    for i in range(len(A)):\n",
    "        for k in savelist:\n",
    "            if list(k) == list(A[0+i:4+i,j]):\n",
    "                p.append(k)\n",
    "            if list(k) == list(A[j,0+i:4+i]):\n",
    "                p.append(k)\n",
    "\n",
    "dic = {1:savelist[0], 2:savelist[1], 3:savelist[2], 4:savelist[3], 5:savelist[4], 6:savelist[5]}\n",
    "\n",
    "def select(x):\n",
    "    if x == '請選擇':\n",
    "        print('請選擇')\n",
    "    elif x == '':\n",
    "        print('請選擇')\n",
    "    elif dic[int(x)] in p:\n",
    "        print('yes')\n",
    "    else:\n",
    "        print('no')\n",
    "\n",
    "print(A)\n",
    "print('請輸入號碼選擇有在矩陣行列內的連續數字，以下至少兩組數字會在矩陣內')\n",
    "print(dic)\n",
    "interact_manual(select, x='請選擇')"
   ]
  },
  {
   "cell_type": "code",
   "execution_count": null,
   "metadata": {},
   "outputs": [],
   "source": []
  },
  {
   "cell_type": "code",
   "execution_count": null,
   "metadata": {},
   "outputs": [],
   "source": []
  }
 ],
 "metadata": {
  "kernelspec": {
   "display_name": "Python 3",
   "language": "python",
   "name": "python3"
  },
  "language_info": {
   "codemirror_mode": {
    "name": "ipython",
    "version": 3
   },
   "file_extension": ".py",
   "mimetype": "text/x-python",
   "name": "python",
   "nbconvert_exporter": "python",
   "pygments_lexer": "ipython3",
   "version": "3.5.5"
  }
 },
 "nbformat": 4,
 "nbformat_minor": 2
}
