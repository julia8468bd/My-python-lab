{
 "cells": [
  {
   "cell_type": "code",
   "execution_count": 1,
   "metadata": {
    "ExecuteTime": {
     "end_time": "2019-05-09T17:17:08.712061Z",
     "start_time": "2019-05-09T17:17:04.106563Z"
    }
   },
   "outputs": [
    {
     "name": "stderr",
     "output_type": "stream",
     "text": [
      "Using TensorFlow backend.\n"
     ]
    }
   ],
   "source": [
    "import keras"
   ]
  },
  {
   "cell_type": "code",
   "execution_count": 21,
   "metadata": {
    "ExecuteTime": {
     "end_time": "2019-05-09T17:18:35.704322Z",
     "start_time": "2019-05-09T17:18:35.672998Z"
    }
   },
   "outputs": [],
   "source": [
    "from keras.backend import set_session\n",
    "import tensorflow as tf\n",
    "import os"
   ]
  },
  {
   "cell_type": "code",
   "execution_count": 22,
   "metadata": {
    "ExecuteTime": {
     "end_time": "2019-05-09T17:18:37.844846Z",
     "start_time": "2019-05-09T17:18:37.032351Z"
    }
   },
   "outputs": [
    {
     "name": "stdout",
     "output_type": "stream",
     "text": [
      "GPU Finished..............................\n"
     ]
    }
   ],
   "source": [
    "def create_session(gpu_id='0', pp_mem_frac=None):\n",
    "\n",
    "    tf.reset_default_graph()\n",
    "    os.environ[\"CUDA_VISIBLE_DEVICES\"] = gpu_id # can multiple?\n",
    "    with tf.device('/gpu:' + gpu_id):\n",
    "        config = tf.ConfigProto()\n",
    "        config.gpu_options.allow_growth = True\n",
    "        if pp_mem_frac is not None:\n",
    "            config.gpu_options.per_process_gpu_memory_fraction=pp_mem_frac\n",
    "        session = tf.Session(config = config)\n",
    "    return session\n",
    "gpu_id = '0'\n",
    "sess = create_session(gpu_id)\n",
    "set_session(sess)\n",
    "print(\"GPU Finished..............................\")"
   ]
  },
  {
   "cell_type": "code",
   "execution_count": 23,
   "metadata": {
    "ExecuteTime": {
     "end_time": "2019-05-09T17:18:41.126195Z",
     "start_time": "2019-05-09T17:18:41.110469Z"
    }
   },
   "outputs": [],
   "source": [
    "%matplotlib inline\n",
    "import numpy as np\n",
    "import matplotlib.pyplot as plt"
   ]
  },
  {
   "cell_type": "code",
   "execution_count": 24,
   "metadata": {
    "ExecuteTime": {
     "end_time": "2019-05-09T17:18:41.329308Z",
     "start_time": "2019-05-09T17:18:41.313624Z"
    }
   },
   "outputs": [],
   "source": [
    "from keras.datasets import mnist"
   ]
  },
  {
   "cell_type": "code",
   "execution_count": 25,
   "metadata": {
    "ExecuteTime": {
     "end_time": "2019-05-09T17:18:41.548076Z",
     "start_time": "2019-05-09T17:18:41.532374Z"
    }
   },
   "outputs": [],
   "source": [
    "from keras.utils import np_utils\n",
    "from keras.models import Sequential\n",
    "from keras.layers import Input\n",
    "from keras.layers import Dense,Activation,Flatten\n",
    "from keras.layers import Conv2D, MaxPool2D\n",
    "from keras.optimizers import Adam,SGD"
   ]
  },
  {
   "cell_type": "code",
   "execution_count": 26,
   "metadata": {
    "ExecuteTime": {
     "end_time": "2019-05-09T17:18:41.876103Z",
     "start_time": "2019-05-09T17:18:41.672998Z"
    }
   },
   "outputs": [],
   "source": [
    "(X_train,Y_train), (X_test,Y_test) = mnist.load_data()"
   ]
  },
  {
   "cell_type": "code",
   "execution_count": 27,
   "metadata": {
    "ExecuteTime": {
     "end_time": "2019-05-09T17:18:42.110476Z",
     "start_time": "2019-05-09T17:18:41.891726Z"
    }
   },
   "outputs": [],
   "source": [
    "x_train = X_train.reshape(60000,28,28,1)/255\n",
    "x_test = X_test.reshape(10000,28,28,1)/255"
   ]
  },
  {
   "cell_type": "code",
   "execution_count": 28,
   "metadata": {
    "ExecuteTime": {
     "end_time": "2019-05-09T17:18:42.141726Z",
     "start_time": "2019-05-09T17:18:42.126102Z"
    }
   },
   "outputs": [],
   "source": [
    "#one_hot\n",
    "y_train = np_utils.to_categorical(Y_train,10) \n",
    "y_test = np_utils.to_categorical(Y_test,10)"
   ]
  },
  {
   "cell_type": "code",
   "execution_count": 95,
   "metadata": {
    "ExecuteTime": {
     "end_time": "2019-05-09T17:30:36.228213Z",
     "start_time": "2019-05-09T17:30:36.212605Z"
    }
   },
   "outputs": [],
   "source": [
    "model = Sequential()"
   ]
  },
  {
   "cell_type": "code",
   "execution_count": 96,
   "metadata": {
    "ExecuteTime": {
     "end_time": "2019-05-09T17:30:36.384487Z",
     "start_time": "2019-05-09T17:30:36.353194Z"
    }
   },
   "outputs": [],
   "source": [
    "model.add(Conv2D(8,(5,5), padding='same',input_shape = (28,28,1)))\n",
    "model.add(Activation('relu'))\n",
    "model.add(MaxPool2D(pool_size = (2,2)))"
   ]
  },
  {
   "cell_type": "code",
   "execution_count": 97,
   "metadata": {
    "ExecuteTime": {
     "end_time": "2019-05-09T17:30:36.572003Z",
     "start_time": "2019-05-09T17:30:36.540715Z"
    }
   },
   "outputs": [],
   "source": [
    "model.add(Conv2D(16,(5,5),padding = 'same'))\n",
    "model.add(Activation('relu'))\n",
    "model.add(MaxPool2D(pool_size = (2,2)))"
   ]
  },
  {
   "cell_type": "code",
   "execution_count": 98,
   "metadata": {
    "ExecuteTime": {
     "end_time": "2019-05-09T17:30:36.743892Z",
     "start_time": "2019-05-09T17:30:36.696961Z"
    }
   },
   "outputs": [],
   "source": [
    "model.add(Conv2D(32,(5,5),padding = 'same'))\n",
    "model.add(Activation('relu'))\n",
    "model.add(MaxPool2D(pool_size = (2,2)))"
   ]
  },
  {
   "cell_type": "code",
   "execution_count": 99,
   "metadata": {
    "ExecuteTime": {
     "end_time": "2019-05-09T17:30:36.915767Z",
     "start_time": "2019-05-09T17:30:36.884443Z"
    }
   },
   "outputs": [],
   "source": [
    "model.add(Flatten())"
   ]
  },
  {
   "cell_type": "code",
   "execution_count": 100,
   "metadata": {
    "ExecuteTime": {
     "end_time": "2019-05-09T17:30:37.197016Z",
     "start_time": "2019-05-09T17:30:37.165717Z"
    }
   },
   "outputs": [],
   "source": [
    "model.add(Dense(20,activation = 'relu'))\n",
    "model.add(Dense(10,activation = 'softmax'))"
   ]
  },
  {
   "cell_type": "code",
   "execution_count": 101,
   "metadata": {
    "ExecuteTime": {
     "end_time": "2019-05-09T17:30:37.447022Z",
     "start_time": "2019-05-09T17:30:37.400081Z"
    }
   },
   "outputs": [
    {
     "name": "stdout",
     "output_type": "stream",
     "text": [
      "_________________________________________________________________\n",
      "Layer (type)                 Output Shape              Param #   \n",
      "=================================================================\n",
      "conv2d_23 (Conv2D)           (None, 28, 28, 8)         208       \n",
      "_________________________________________________________________\n",
      "activation_23 (Activation)   (None, 28, 28, 8)         0         \n",
      "_________________________________________________________________\n",
      "max_pooling2d_23 (MaxPooling (None, 14, 14, 8)         0         \n",
      "_________________________________________________________________\n",
      "conv2d_24 (Conv2D)           (None, 14, 14, 16)        3216      \n",
      "_________________________________________________________________\n",
      "activation_24 (Activation)   (None, 14, 14, 16)        0         \n",
      "_________________________________________________________________\n",
      "max_pooling2d_24 (MaxPooling (None, 7, 7, 16)          0         \n",
      "_________________________________________________________________\n",
      "conv2d_25 (Conv2D)           (None, 7, 7, 32)          12832     \n",
      "_________________________________________________________________\n",
      "activation_25 (Activation)   (None, 7, 7, 32)          0         \n",
      "_________________________________________________________________\n",
      "max_pooling2d_25 (MaxPooling (None, 3, 3, 32)          0         \n",
      "_________________________________________________________________\n",
      "flatten_8 (Flatten)          (None, 288)               0         \n",
      "_________________________________________________________________\n",
      "dense_14 (Dense)             (None, 20)                5780      \n",
      "_________________________________________________________________\n",
      "dense_15 (Dense)             (None, 10)                210       \n",
      "=================================================================\n",
      "Total params: 22,246\n",
      "Trainable params: 22,246\n",
      "Non-trainable params: 0\n",
      "_________________________________________________________________\n"
     ]
    }
   ],
   "source": [
    "model.compile(loss='categorical_crossentropy', optimizer=Adam(lr=0.0004), metrics=['acc'])\n",
    "model.summary()"
   ]
  },
  {
   "cell_type": "code",
   "execution_count": 102,
   "metadata": {
    "ExecuteTime": {
     "end_time": "2019-05-09T17:30:37.618880Z",
     "start_time": "2019-05-09T17:30:37.587568Z"
    }
   },
   "outputs": [],
   "source": [
    "from keras.callbacks import EarlyStopping\n",
    "early_stopping = EarlyStopping(monitor='val_loss', patience=5, verbose=2)"
   ]
  },
  {
   "cell_type": "code",
   "execution_count": 103,
   "metadata": {
    "ExecuteTime": {
     "end_time": "2019-05-09T17:32:04.802254Z",
     "start_time": "2019-05-09T17:30:37.806325Z"
    }
   },
   "outputs": [
    {
     "name": "stdout",
     "output_type": "stream",
     "text": [
      "Train on 54000 samples, validate on 6000 samples\n",
      "Epoch 1/30\n",
      "54000/54000 [==============================] - 3s - loss: 0.6147 - acc: 0.8140 - val_loss: 0.1750 - val_acc: 0.9498\n",
      "Epoch 2/30\n",
      "54000/54000 [==============================] - 2s - loss: 0.1521 - acc: 0.9560 - val_loss: 0.1082 - val_acc: 0.9713\n",
      "Epoch 3/30\n",
      "54000/54000 [==============================] - 2s - loss: 0.1059 - acc: 0.9685 - val_loss: 0.0973 - val_acc: 0.9720\n",
      "Epoch 4/30\n",
      "54000/54000 [==============================] - 2s - loss: 0.0841 - acc: 0.9738 - val_loss: 0.0863 - val_acc: 0.97780.97\n",
      "Epoch 5/30\n",
      "54000/54000 [==============================] - 2s - loss: 0.0702 - acc: 0.9789 - val_loss: 0.0641 - val_acc: 0.9807\n",
      "Epoch 6/30\n",
      "54000/54000 [==============================] - 2s - loss: 0.0599 - acc: 0.9819 - val_loss: 0.0567 - val_acc: 0.9838\n",
      "Epoch 7/30\n",
      "54000/54000 [==============================] - 2s - loss: 0.0524 - acc: 0.9841 - val_loss: 0.0551 - val_acc: 0.9842\n",
      "Epoch 8/30\n",
      "54000/54000 [==============================] - 2s - loss: 0.0467 - acc: 0.9861 - val_loss: 0.0492 - val_acc: 0.9847\n",
      "Epoch 9/30\n",
      "54000/54000 [==============================] - 2s - loss: 0.0429 - acc: 0.9865 - val_loss: 0.0521 - val_acc: 0.9847\n",
      "Epoch 10/30\n",
      "54000/54000 [==============================] - 2s - loss: 0.0392 - acc: 0.9878 - val_loss: 0.0546 - val_acc: 0.98200.98\n",
      "Epoch 11/30\n",
      "54000/54000 [==============================] - 2s - loss: 0.0350 - acc: 0.9889 - val_loss: 0.0480 - val_acc: 0.9857\n",
      "Epoch 12/30\n",
      "54000/54000 [==============================] - 2s - loss: 0.0326 - acc: 0.9897 - val_loss: 0.0436 - val_acc: 0.9872\n",
      "Epoch 13/30\n",
      "54000/54000 [==============================] - 2s - loss: 0.0306 - acc: 0.9903 - val_loss: 0.0451 - val_acc: 0.9873\n",
      "Epoch 14/30\n",
      "54000/54000 [==============================] - 2s - loss: 0.0265 - acc: 0.9914 - val_loss: 0.0453 - val_acc: 0.9880\n",
      "Epoch 15/30\n",
      "54000/54000 [==============================] - 2s - loss: 0.0249 - acc: 0.9921 - val_loss: 0.0493 - val_acc: 0.9865\n",
      "Epoch 16/30\n",
      "54000/54000 [==============================] - 2s - loss: 0.0232 - acc: 0.9927 - val_loss: 0.0445 - val_acc: 0.9892\n",
      "Epoch 17/30\n",
      "54000/54000 [==============================] - 2s - loss: 0.0207 - acc: 0.9933 - val_loss: 0.0469 - val_acc: 0.9883\n",
      "Epoch 18/30\n",
      "54000/54000 [==============================] - 2s - loss: 0.0193 - acc: 0.9935 - val_loss: 0.0389 - val_acc: 0.9890\n",
      "Epoch 19/30\n",
      "54000/54000 [==============================] - 2s - loss: 0.0175 - acc: 0.9944 - val_loss: 0.0428 - val_acc: 0.9897\n",
      "Epoch 20/30\n",
      "54000/54000 [==============================] - 2s - loss: 0.0169 - acc: 0.9943 - val_loss: 0.0463 - val_acc: 0.9868\n",
      "Epoch 21/30\n",
      "54000/54000 [==============================] - 2s - loss: 0.0145 - acc: 0.9949 - val_loss: 0.0474 - val_acc: 0.9897\n",
      "Epoch 22/30\n",
      "54000/54000 [==============================] - 2s - loss: 0.0141 - acc: 0.9952 - val_loss: 0.0508 - val_acc: 0.9867\n",
      "Epoch 23/30\n",
      "54000/54000 [==============================] - 2s - loss: 0.0129 - acc: 0.9958 - val_loss: 0.0433 - val_acc: 0.9910\n",
      "Epoch 24/30\n",
      "54000/54000 [==============================] - 2s - loss: 0.0116 - acc: 0.9964 - val_loss: 0.0464 - val_acc: 0.9902\n",
      "Epoch 25/30\n",
      "54000/54000 [==============================] - 2s - loss: 0.0113 - acc: 0.9964 - val_loss: 0.0523 - val_acc: 0.9882\n",
      "Epoch 26/30\n",
      "54000/54000 [==============================] - 2s - loss: 0.0100 - acc: 0.9966 - val_loss: 0.0477 - val_acc: 0.9900\n",
      "Epoch 27/30\n",
      "54000/54000 [==============================] - 2s - loss: 0.0101 - acc: 0.9968 - val_loss: 0.0519 - val_acc: 0.9882\n",
      "Epoch 28/30\n",
      "54000/54000 [==============================] - 2s - loss: 0.0078 - acc: 0.9975 - val_loss: 0.0420 - val_acc: 0.9898\n",
      "Epoch 29/30\n",
      "54000/54000 [==============================] - 2s - loss: 0.0095 - acc: 0.9969 - val_loss: 0.0464 - val_acc: 0.9890\n",
      "Epoch 30/30\n",
      "54000/54000 [==============================] - 2s - loss: 0.0080 - acc: 0.9974 - val_loss: 0.0421 - val_acc: 0.9915\n"
     ]
    }
   ],
   "source": [
    "history = model.fit(x_train, y_train, batch_size = 100, epochs = 30, verbose = 1,  validation_split=0.1)"
   ]
  },
  {
   "cell_type": "code",
   "execution_count": 104,
   "metadata": {
    "ExecuteTime": {
     "end_time": "2019-05-09T17:32:04.911650Z",
     "start_time": "2019-05-09T17:32:04.817877Z"
    }
   },
   "outputs": [
    {
     "data": {
      "image/png": "[encoded data removed]",
      "text/plain": [
       "<Figure size 432x288 with 1 Axes>"
      ]
     },
     "metadata": {
      "needs_background": "light"
     },
     "output_type": "display_data"
    }
   ],
   "source": [
    "plt.plot(history.history['acc'])\n",
    "plt.xlabel(\"epochs\")\n",
    "plt.ylabel(\"accuracy\")\n",
    "plt.show()"
   ]
  },
  {
   "cell_type": "code",
   "execution_count": 105,
   "metadata": {
    "ExecuteTime": {
     "end_time": "2019-05-09T17:32:38.630412Z",
     "start_time": "2019-05-09T17:32:33.880462Z"
    }
   },
   "outputs": [
    {
     "name": "stdout",
     "output_type": "stream",
     "text": [
      "Train data：\n",
      "             precision    recall  f1-score   support\n",
      "\n",
      "          0       1.00      1.00      1.00      5923\n",
      "          1       1.00      1.00      1.00      6742\n",
      "          2       1.00      1.00      1.00      5958\n",
      "          3       1.00      1.00      1.00      6131\n",
      "          4       1.00      1.00      1.00      5842\n",
      "          5       1.00      1.00      1.00      5421\n",
      "          6       1.00      1.00      1.00      5918\n",
      "          7       1.00      0.99      1.00      6265\n",
      "          8       1.00      1.00      1.00      5851\n",
      "          9       1.00      1.00      1.00      5949\n",
      "\n",
      "avg / total       1.00      1.00      1.00     60000\n",
      "\n"
     ]
    },
    {
     "data": {
      "text/plain": [
       "0.9980166666666667"
      ]
     },
     "execution_count": 105,
     "metadata": {},
     "output_type": "execute_result"
    }
   ],
   "source": [
    "from sklearn import metrics \n",
    "from sklearn.metrics import classification_report\n",
    "\n",
    "print(\"Train data：\")\n",
    "print(classification_report(y_train.argmax(1), model.predict(x_train).argmax(1)))\n",
    "metrics.accuracy_score(y_train.argmax(1), model.predict(x_train).argmax(1))"
   ]
  },
  {
   "cell_type": "code",
   "execution_count": 106,
   "metadata": {
    "ExecuteTime": {
     "end_time": "2019-05-09T17:32:50.317943Z",
     "start_time": "2019-05-09T17:32:49.489859Z"
    }
   },
   "outputs": [
    {
     "name": "stdout",
     "output_type": "stream",
     "text": [
      "Test data：\n",
      "             precision    recall  f1-score   support\n",
      "\n",
      "          0       0.99      0.99      0.99       980\n",
      "          1       0.99      1.00      0.99      1135\n",
      "          2       0.99      0.99      0.99      1032\n",
      "          3       0.99      1.00      0.99      1010\n",
      "          4       0.99      0.99      0.99       982\n",
      "          5       0.99      0.99      0.99       892\n",
      "          6       0.99      0.99      0.99       958\n",
      "          7       0.99      0.98      0.99      1028\n",
      "          8       0.99      0.99      0.99       974\n",
      "          9       0.99      0.98      0.98      1009\n",
      "\n",
      "avg / total       0.99      0.99      0.99     10000\n",
      "\n"
     ]
    },
    {
     "data": {
      "text/plain": [
       "0.9906"
      ]
     },
     "execution_count": 106,
     "metadata": {},
     "output_type": "execute_result"
    }
   ],
   "source": [
    "print(\"Test data：\")\n",
    "print(classification_report(y_test.argmax(1), model.predict(x_test).argmax(1)))\n",
    "metrics.accuracy_score(y_test.argmax(1), model.predict(x_test).argmax(1))"
   ]
  },
  {
   "cell_type": "code",
   "execution_count": null,
   "metadata": {},
   "outputs": [],
   "source": []
  }
 ],
 "metadata": {
  "kernelspec": {
   "display_name": "Python [conda env:py36]",
   "language": "python",
   "name": "conda-env-py36-py"
  },
  "language_info": {
   "codemirror_mode": {
    "name": "ipython",
    "version": 3
   },
   "file_extension": ".py",
   "mimetype": "text/x-python",
   "name": "python",
   "nbconvert_exporter": "python",
   "pygments_lexer": "ipython3",
   "version": "3.6.6"
  },
  "toc": {
   "base_numbering": 1,
   "nav_menu": {},
   "number_sections": true,
   "sideBar": true,
   "skip_h1_title": false,
   "title_cell": "Table of Contents",
   "title_sidebar": "Contents",
   "toc_cell": false,
   "toc_position": {},
   "toc_section_display": true,
   "toc_window_display": false
  },
  "varInspector": {
   "cols": {
    "lenName": 16,
    "lenType": 16,
    "lenVar": 40
   },
   "kernels_config": {
    "python": {
     "delete_cmd_postfix": "",
     "delete_cmd_prefix": "del ",
     "library": "var_list.py",
     "varRefreshCmd": "print(var_dic_list())"
    },
    "r": {
     "delete_cmd_postfix": ") ",
     "delete_cmd_prefix": "rm(",
     "library": "var_list.r",
     "varRefreshCmd": "cat(var_dic_list()) "
    }
   },
   "types_to_exclude": [
    "module",
    "function",
    "builtin_function_or_method",
    "instance",
    "_Feature"
   ],
   "window_display": false
  }
 },
 "nbformat": 4,
 "nbformat_minor": 2
}
