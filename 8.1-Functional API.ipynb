{
 "cells": [
  {
   "cell_type": "markdown",
   "metadata": {},
   "source": [
    "## 資料前處理"
   ]
  },
  {
   "cell_type": "code",
   "execution_count": 114,
   "metadata": {},
   "outputs": [],
   "source": [
    "import keras"
   ]
  },
  {
   "cell_type": "code",
   "execution_count": 115,
   "metadata": {},
   "outputs": [],
   "source": [
    "%matplotlib inline\n",
    "import numpy as np\n",
    "import matplotlib.pyplot as plt"
   ]
  },
  {
   "cell_type": "code",
   "execution_count": 116,
   "metadata": {},
   "outputs": [],
   "source": [
    "from keras.layers import Dense, Activation\n",
    "from keras.optimizers import SGD"
   ]
  },
  {
   "cell_type": "code",
   "execution_count": 117,
   "metadata": {},
   "outputs": [],
   "source": [
    "from keras.datasets import mnist\n",
    "from keras.utils import np_utils"
   ]
  },
  {
   "cell_type": "code",
   "execution_count": 118,
   "metadata": {},
   "outputs": [],
   "source": [
    "(x_train, y_train),(x_test, y_test) = mnist.load_data()"
   ]
  },
  {
   "cell_type": "code",
   "execution_count": 119,
   "metadata": {},
   "outputs": [],
   "source": [
    "x_train = x_train.reshape(60000, 784)\n",
    "x_test = x_test.reshape(10000, 784)"
   ]
  },
  {
   "cell_type": "code",
   "execution_count": 120,
   "metadata": {},
   "outputs": [
    {
     "name": "stdout",
     "output_type": "stream",
     "text": [
      "(60000, 784) (10000, 784)\n"
     ]
    }
   ],
   "source": [
    "print(x_train.shape, x_test.shape)"
   ]
  },
  {
   "cell_type": "code",
   "execution_count": 121,
   "metadata": {},
   "outputs": [],
   "source": [
    "y_train = np_utils.to_categorical(y_train, 10)\n",
    "y_test = np_utils.to_categorical(y_test, 10)"
   ]
  },
  {
   "cell_type": "markdown",
   "metadata": {},
   "source": [
    "## 使用Functional API、會分岔的神經網路"
   ]
  },
  {
   "cell_type": "code",
   "execution_count": 122,
   "metadata": {},
   "outputs": [],
   "source": [
    "from keras.models import Model"
   ]
  },
  {
   "cell_type": "code",
   "execution_count": 123,
   "metadata": {},
   "outputs": [],
   "source": [
    "from keras.layers import Input"
   ]
  },
  {
   "cell_type": "markdown",
   "metadata": {},
   "source": [
    "#### 使用跟上星期做得最好的神經網路相似的層數與個數(激活函數relu、損失函數crossentropy、優化器SGD)\n",
    "\n",
    "#### 但中間將2層隱藏層分岔，而不是全為線性堆疊"
   ]
  },
  {
   "cell_type": "code",
   "execution_count": 124,
   "metadata": {},
   "outputs": [],
   "source": [
    "f_1 = Dense(100, activation='relu')\n",
    "f_2 = Dense(500, activation='relu')\n",
    "f_3 = Dense(250, activation='relu')\n",
    "f_4 = Dense(10, activation='softmax')"
   ]
  },
  {
   "cell_type": "code",
   "execution_count": 125,
   "metadata": {},
   "outputs": [
    {
     "data": {
      "text/plain": [
       "<tf.Tensor 'input_8:0' shape=(?, 784) dtype=float32>"
      ]
     },
     "execution_count": 125,
     "metadata": {},
     "output_type": "execute_result"
    }
   ],
   "source": [
    "x = Input(shape=(784, )) #？代表batch_size\n",
    "x"
   ]
  },
  {
   "cell_type": "code",
   "execution_count": 126,
   "metadata": {},
   "outputs": [],
   "source": [
    "#架構神經網路\n",
    "from keras.layers import concatenate,add\n",
    "\n",
    "h_1 = f_1(x)\n",
    "h_2 = f_2(h_1)\n",
    "h_3 = f_3(h_2)\n",
    "\n",
    "u=concatenate([h_2,h_3])\n",
    "y=f_4(u)"
   ]
  },
  {
   "cell_type": "code",
   "execution_count": 127,
   "metadata": {},
   "outputs": [
    {
     "name": "stdout",
     "output_type": "stream",
     "text": [
      "__________________________________________________________________________________________________\n",
      "Layer (type)                    Output Shape         Param #     Connected to                     \n",
      "==================================================================================================\n",
      "input_8 (InputLayer)            (None, 784)          0                                            \n",
      "__________________________________________________________________________________________________\n",
      "dense_28 (Dense)                (None, 100)          78500       input_8[0][0]                    \n",
      "__________________________________________________________________________________________________\n",
      "dense_29 (Dense)                (None, 500)          50500       dense_28[0][0]                   \n",
      "__________________________________________________________________________________________________\n",
      "dense_30 (Dense)                (None, 250)          125250      dense_29[0][0]                   \n",
      "__________________________________________________________________________________________________\n",
      "concatenate_7 (Concatenate)     (None, 750)          0           dense_29[0][0]                   \n",
      "                                                                 dense_30[0][0]                   \n",
      "__________________________________________________________________________________________________\n",
      "dense_31 (Dense)                (None, 10)           7510        concatenate_7[0][0]              \n",
      "==================================================================================================\n",
      "Total params: 261,760\n",
      "Trainable params: 261,760\n",
      "Non-trainable params: 0\n",
      "__________________________________________________________________________________________________\n"
     ]
    }
   ],
   "source": [
    "model = Model(x, y)\n",
    "model.summary()"
   ]
  },
  {
   "cell_type": "code",
   "execution_count": 128,
   "metadata": {},
   "outputs": [],
   "source": [
    "model.compile(loss='categorical_crossentropy', optimizer=SGD(lr=0.00025), metrics=['acc'])"
   ]
  },
  {
   "cell_type": "code",
   "execution_count": 129,
   "metadata": {},
   "outputs": [],
   "source": [
    "from keras.callbacks import EarlyStopping\n",
    "early_stopping = EarlyStopping(monitor='val_loss', patience=5, verbose=2)"
   ]
  },
  {
   "cell_type": "code",
   "execution_count": 130,
   "metadata": {},
   "outputs": [
    {
     "name": "stdout",
     "output_type": "stream",
     "text": [
      "Train on 54000 samples, validate on 6000 samples\n",
      "Epoch 1/50\n",
      "54000/54000 [==============================] - 2s 42us/step - loss: 5.6425 - acc: 0.6126 - val_loss: 3.8091 - val_acc: 0.7453\n",
      "Epoch 2/50\n",
      "54000/54000 [==============================] - 2s 37us/step - loss: 2.5939 - acc: 0.7992 - val_loss: 1.3404 - val_acc: 0.8823\n",
      "Epoch 3/50\n",
      "54000/54000 [==============================] - 2s 38us/step - loss: 1.3012 - acc: 0.8838 - val_loss: 0.9501 - val_acc: 0.9147\n",
      "Epoch 4/50\n",
      "54000/54000 [==============================] - 2s 37us/step - loss: 1.0371 - acc: 0.9056 - val_loss: 0.8464 - val_acc: 0.9218\n",
      "Epoch 5/50\n",
      "54000/54000 [==============================] - 2s 37us/step - loss: 0.8893 - acc: 0.9170 - val_loss: 0.7710 - val_acc: 0.9293\n",
      "Epoch 6/50\n",
      "54000/54000 [==============================] - 2s 38us/step - loss: 0.7722 - acc: 0.9260 - val_loss: 0.6858 - val_acc: 0.9317\n",
      "Epoch 7/50\n",
      "54000/54000 [==============================] - 2s 38us/step - loss: 0.6816 - acc: 0.9333 - val_loss: 0.6552 - val_acc: 0.9345\n",
      "Epoch 8/50\n",
      "54000/54000 [==============================] - 2s 37us/step - loss: 0.6119 - acc: 0.9386 - val_loss: 0.5944 - val_acc: 0.9400\n",
      "Epoch 9/50\n",
      "54000/54000 [==============================] - 2s 38us/step - loss: 0.5528 - acc: 0.9444 - val_loss: 0.5640 - val_acc: 0.9410\n",
      "Epoch 10/50\n",
      "54000/54000 [==============================] - 2s 37us/step - loss: 0.5044 - acc: 0.9469 - val_loss: 0.5632 - val_acc: 0.9388\n",
      "Epoch 11/50\n",
      "54000/54000 [==============================] - 2s 37us/step - loss: 0.4625 - acc: 0.9508 - val_loss: 0.5257 - val_acc: 0.9427\n",
      "Epoch 12/50\n",
      "54000/54000 [==============================] - 2s 38us/step - loss: 0.4312 - acc: 0.9538 - val_loss: 0.5164 - val_acc: 0.9440\n",
      "Epoch 13/50\n",
      "54000/54000 [==============================] - 2s 38us/step - loss: 0.4000 - acc: 0.9564 - val_loss: 0.4925 - val_acc: 0.9475\n",
      "Epoch 14/50\n",
      "54000/54000 [==============================] - 2s 38us/step - loss: 0.3752 - acc: 0.9589 - val_loss: 0.4826 - val_acc: 0.9462\n",
      "Epoch 15/50\n",
      "54000/54000 [==============================] - 2s 38us/step - loss: 0.3488 - acc: 0.9613 - val_loss: 0.4808 - val_acc: 0.9473\n",
      "Epoch 16/50\n",
      "54000/54000 [==============================] - 2s 39us/step - loss: 0.3268 - acc: 0.9640 - val_loss: 0.4639 - val_acc: 0.9493\n",
      "Epoch 17/50\n",
      "54000/54000 [==============================] - 2s 41us/step - loss: 0.3062 - acc: 0.9668 - val_loss: 0.4735 - val_acc: 0.9482\n",
      "Epoch 18/50\n",
      "54000/54000 [==============================] - 2s 38us/step - loss: 0.2938 - acc: 0.9675 - val_loss: 0.4429 - val_acc: 0.9510\n",
      "Epoch 19/50\n",
      "54000/54000 [==============================] - 2s 37us/step - loss: 0.2772 - acc: 0.9702 - val_loss: 0.4649 - val_acc: 0.9483\n",
      "Epoch 20/50\n",
      "54000/54000 [==============================] - 2s 39us/step - loss: 0.2673 - acc: 0.9708 - val_loss: 0.4543 - val_acc: 0.9502\n",
      "Epoch 21/50\n",
      "54000/54000 [==============================] - 2s 38us/step - loss: 0.2526 - acc: 0.9728 - val_loss: 0.4321 - val_acc: 0.9508\n",
      "Epoch 22/50\n",
      "54000/54000 [==============================] - 2s 38us/step - loss: 0.2426 - acc: 0.9738 - val_loss: 0.4328 - val_acc: 0.9507\n",
      "Epoch 23/50\n",
      "54000/54000 [==============================] - 2s 38us/step - loss: 0.2331 - acc: 0.9759 - val_loss: 0.4266 - val_acc: 0.9503\n",
      "Epoch 24/50\n",
      "54000/54000 [==============================] - 2s 38us/step - loss: 0.2241 - acc: 0.9767 - val_loss: 0.4159 - val_acc: 0.9517\n",
      "Epoch 25/50\n",
      "54000/54000 [==============================] - 2s 38us/step - loss: 0.2148 - acc: 0.9777 - val_loss: 0.4148 - val_acc: 0.9520\n",
      "Epoch 26/50\n",
      "54000/54000 [==============================] - 2s 38us/step - loss: 0.2080 - acc: 0.9788 - val_loss: 0.4127 - val_acc: 0.9527\n",
      "Epoch 27/50\n",
      "54000/54000 [==============================] - 2s 38us/step - loss: 0.2019 - acc: 0.9794 - val_loss: 0.4078 - val_acc: 0.9527\n",
      "Epoch 28/50\n",
      "54000/54000 [==============================] - 2s 38us/step - loss: 0.1919 - acc: 0.9809 - val_loss: 0.4092 - val_acc: 0.9527\n",
      "Epoch 29/50\n",
      "54000/54000 [==============================] - 2s 38us/step - loss: 0.1883 - acc: 0.9811 - val_loss: 0.4028 - val_acc: 0.9530\n",
      "Epoch 30/50\n",
      "54000/54000 [==============================] - 2s 38us/step - loss: 0.1813 - acc: 0.9826 - val_loss: 0.4086 - val_acc: 0.9530\n",
      "Epoch 31/50\n",
      "54000/54000 [==============================] - 2s 38us/step - loss: 0.1777 - acc: 0.9833 - val_loss: 0.4030 - val_acc: 0.9532\n",
      "Epoch 32/50\n",
      "54000/54000 [==============================] - 2s 38us/step - loss: 0.1716 - acc: 0.9842 - val_loss: 0.4077 - val_acc: 0.9533\n",
      "Epoch 33/50\n",
      "54000/54000 [==============================] - 2s 39us/step - loss: 0.1674 - acc: 0.9849 - val_loss: 0.4032 - val_acc: 0.9553\n",
      "Epoch 34/50\n",
      "54000/54000 [==============================] - 2s 38us/step - loss: 0.1636 - acc: 0.9859 - val_loss: 0.3965 - val_acc: 0.9555\n",
      "Epoch 35/50\n",
      "54000/54000 [==============================] - 2s 38us/step - loss: 0.1603 - acc: 0.9867 - val_loss: 0.3998 - val_acc: 0.9553\n",
      "Epoch 36/50\n",
      "54000/54000 [==============================] - 2s 38us/step - loss: 0.1574 - acc: 0.9872 - val_loss: 0.4030 - val_acc: 0.9545\n",
      "Epoch 37/50\n",
      "54000/54000 [==============================] - 2s 38us/step - loss: 0.1549 - acc: 0.9876 - val_loss: 0.3992 - val_acc: 0.9557\n",
      "Epoch 38/50\n",
      "54000/54000 [==============================] - 2s 38us/step - loss: 0.1517 - acc: 0.9884 - val_loss: 0.3942 - val_acc: 0.9553\n",
      "Epoch 39/50\n",
      "54000/54000 [==============================] - 2s 38us/step - loss: 0.1499 - acc: 0.9883 - val_loss: 0.4042 - val_acc: 0.9552\n",
      "Epoch 40/50\n",
      "54000/54000 [==============================] - 2s 38us/step - loss: 0.1474 - acc: 0.9890 - val_loss: 0.3961 - val_acc: 0.9553\n",
      "Epoch 41/50\n",
      "54000/54000 [==============================] - 2s 38us/step - loss: 0.1455 - acc: 0.9894 - val_loss: 0.3977 - val_acc: 0.9547\n",
      "Epoch 42/50\n",
      "54000/54000 [==============================] - 2s 39us/step - loss: 0.1433 - acc: 0.9898 - val_loss: 0.3934 - val_acc: 0.9560\n",
      "Epoch 43/50\n",
      "54000/54000 [==============================] - 2s 38us/step - loss: 0.1422 - acc: 0.9900 - val_loss: 0.3893 - val_acc: 0.9568\n",
      "Epoch 44/50\n",
      "54000/54000 [==============================] - 2s 38us/step - loss: 0.1409 - acc: 0.9901 - val_loss: 0.3880 - val_acc: 0.9575\n",
      "Epoch 45/50\n",
      "54000/54000 [==============================] - 2s 38us/step - loss: 0.1392 - acc: 0.9907 - val_loss: 0.3902 - val_acc: 0.9572\n",
      "Epoch 46/50\n",
      "54000/54000 [==============================] - 2s 38us/step - loss: 0.1382 - acc: 0.9909 - val_loss: 0.3907 - val_acc: 0.9573\n",
      "Epoch 47/50\n",
      "54000/54000 [==============================] - 2s 38us/step - loss: 0.1367 - acc: 0.9911 - val_loss: 0.3893 - val_acc: 0.9570\n",
      "Epoch 48/50\n",
      "54000/54000 [==============================] - 2s 38us/step - loss: 0.1361 - acc: 0.9912 - val_loss: 0.3885 - val_acc: 0.9568\n",
      "Epoch 49/50\n",
      "54000/54000 [==============================] - 2s 38us/step - loss: 0.1353 - acc: 0.9914 - val_loss: 0.3888 - val_acc: 0.9572\n",
      "Epoch 00049: early stopping\n"
     ]
    },
    {
     "data": {
      "text/plain": [
       "<keras.callbacks.History at 0x14d7ed30>"
      ]
     },
     "execution_count": 130,
     "metadata": {},
     "output_type": "execute_result"
    }
   ],
   "source": [
    "model.fit(x_train, y_train, batch_size=100, epochs=50, validation_split=0.1, callbacks=[early_stopping])"
   ]
  },
  {
   "cell_type": "markdown",
   "metadata": {},
   "source": [
    "## training data的訓練成果"
   ]
  },
  {
   "cell_type": "code",
   "execution_count": 131,
   "metadata": {
    "scrolled": true
   },
   "outputs": [
    {
     "name": "stdout",
     "output_type": "stream",
     "text": [
      "Train data：\n",
      "             precision    recall  f1-score   support\n",
      "\n",
      "          0       0.99      0.99      0.99      5923\n",
      "          1       0.99      0.99      0.99      6742\n",
      "          2       0.99      0.99      0.99      5958\n",
      "          3       0.99      0.98      0.98      6131\n",
      "          4       0.99      0.99      0.99      5842\n",
      "          5       0.98      0.98      0.98      5421\n",
      "          6       0.99      0.99      0.99      5918\n",
      "          7       0.99      0.99      0.99      6265\n",
      "          8       0.98      0.99      0.98      5851\n",
      "          9       0.99      0.98      0.98      5949\n",
      "\n",
      "avg / total       0.99      0.99      0.99     60000\n",
      "\n"
     ]
    },
    {
     "data": {
      "text/plain": [
       "0.9881666666666666"
      ]
     },
     "execution_count": 131,
     "metadata": {},
     "output_type": "execute_result"
    }
   ],
   "source": [
    "from sklearn import metrics \n",
    "from sklearn.metrics import classification_report\n",
    "\n",
    "print(\"Train data：\")\n",
    "print(classification_report(y_train.argmax(1), model.predict(x_train).argmax(1)))\n",
    "metrics.accuracy_score(y_train.argmax(1), model.predict(x_train).argmax(1))"
   ]
  },
  {
   "cell_type": "markdown",
   "metadata": {},
   "source": [
    "## 預測testing data的成果"
   ]
  },
  {
   "cell_type": "code",
   "execution_count": 132,
   "metadata": {},
   "outputs": [
    {
     "name": "stdout",
     "output_type": "stream",
     "text": [
      "Test data：\n",
      "             precision    recall  f1-score   support\n",
      "\n",
      "          0       0.97      0.98      0.97       980\n",
      "          1       0.98      0.99      0.98      1135\n",
      "          2       0.95      0.94      0.94      1032\n",
      "          3       0.93      0.94      0.94      1010\n",
      "          4       0.94      0.95      0.95       982\n",
      "          5       0.93      0.93      0.93       892\n",
      "          6       0.96      0.95      0.95       958\n",
      "          7       0.94      0.94      0.94      1028\n",
      "          8       0.92      0.93      0.92       974\n",
      "          9       0.94      0.91      0.93      1009\n",
      "\n",
      "avg / total       0.95      0.95      0.95     10000\n",
      "\n"
     ]
    },
    {
     "data": {
      "text/plain": [
       "0.9462"
      ]
     },
     "execution_count": 132,
     "metadata": {},
     "output_type": "execute_result"
    }
   ],
   "source": [
    "print(\"Test data：\")\n",
    "print(classification_report(y_test.argmax(1), model.predict(x_test).argmax(1)))\n",
    "metrics.accuracy_score(y_test.argmax(1), model.predict(x_test).argmax(1))"
   ]
  },
  {
   "cell_type": "code",
   "execution_count": null,
   "metadata": {},
   "outputs": [],
   "source": []
  },
  {
   "cell_type": "code",
   "execution_count": null,
   "metadata": {},
   "outputs": [],
   "source": []
  }
 ],
 "metadata": {
  "kernelspec": {
   "display_name": "Python 3",
   "language": "python",
   "name": "python3"
  },
  "language_info": {
   "codemirror_mode": {
    "name": "ipython",
    "version": 3
   },
   "file_extension": ".py",
   "mimetype": "text/x-python",
   "name": "python",
   "nbconvert_exporter": "python",
   "pygments_lexer": "ipython3",
   "version": "3.5.5"
  }
 },
 "nbformat": 4,
 "nbformat_minor": 2
}
