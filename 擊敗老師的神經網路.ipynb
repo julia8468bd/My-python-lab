{
 "cells": [
  {
   "cell_type": "markdown",
   "metadata": {},
   "source": [
    "### Outline："
   ]
  },
  {
   "cell_type": "markdown",
   "metadata": {},
   "source": [
    "這次總共訓練了4個神經網路：\n",
    "\n",
    "第一個神經網路用最原始loss function使用mse，激活函數使用sigmoid\n",
    "\n",
    "第二個神經網路loss function換成適合多分類問題的cross entropy\n",
    "\n",
    "第三個神經網路除了loss function換成適合多分類問題的cross entropy外，將激活函數換成鼎鼎大名的relu\n",
    "\n",
    "第四個神經網路為了防止overfitting的問題，加入了Dropout跟early stopping"
   ]
  },
  {
   "cell_type": "code",
   "execution_count": 3,
   "metadata": {},
   "outputs": [],
   "source": [
    "%matplotlib inline\n",
    "\n",
    "import numpy as np\n",
    "import matplotlib.pyplot as plt\n",
    "import pandas as pd"
   ]
  },
  {
   "cell_type": "code",
   "execution_count": 4,
   "metadata": {},
   "outputs": [],
   "source": [
    "import keras"
   ]
  },
  {
   "cell_type": "markdown",
   "metadata": {},
   "source": [
    "### 從keras讀入mnist"
   ]
  },
  {
   "cell_type": "code",
   "execution_count": 5,
   "metadata": {},
   "outputs": [],
   "source": [
    "from keras.datasets import mnist"
   ]
  },
  {
   "cell_type": "code",
   "execution_count": 6,
   "metadata": {},
   "outputs": [],
   "source": [
    "(x_train, y_train), (x_test, y_test) = mnist.load_data()"
   ]
  },
  {
   "cell_type": "markdown",
   "metadata": {},
   "source": [
    "### 輸入、輸出資料整理"
   ]
  },
  {
   "cell_type": "code",
   "execution_count": 7,
   "metadata": {},
   "outputs": [],
   "source": [
    "x_train = x_train.reshape(60000, 784)\n",
    "x_test = x_test.reshape(10000, 784)"
   ]
  },
  {
   "cell_type": "markdown",
   "metadata": {},
   "source": [
    "### 輸出做one-hot encoding"
   ]
  },
  {
   "cell_type": "code",
   "execution_count": 8,
   "metadata": {},
   "outputs": [],
   "source": [
    "from keras.utils import np_utils"
   ]
  },
  {
   "cell_type": "code",
   "execution_count": 9,
   "metadata": {},
   "outputs": [],
   "source": [
    "y_train = np_utils.to_categorical(y_train ,10)\n",
    "y_test = np_utils.to_categorical(y_test, 10)"
   ]
  },
  {
   "cell_type": "code",
   "execution_count": 10,
   "metadata": {},
   "outputs": [
    {
     "data": {
      "text/plain": [
       "array([0., 1., 0., 0., 0., 0., 0., 0., 0., 0.], dtype=float32)"
      ]
     },
     "execution_count": 10,
     "metadata": {},
     "output_type": "execute_result"
    }
   ],
   "source": [
    "y_train[9487]"
   ]
  },
  {
   "cell_type": "markdown",
   "metadata": {},
   "source": [
    "# 打造神經網路"
   ]
  },
  {
   "cell_type": "markdown",
   "metadata": {},
   "source": [
    "2層隱藏層\n",
    "\n",
    "第一層500個神經元\n",
    "\n",
    "第二層250個神經元\n",
    "\n",
    "隱藏層Activation function用sigmoid\n",
    "\n",
    "輸出層Activation function用softmax(softmax適合多分類問題，將神經元輸出壓縮到0~1之間)"
   ]
  },
  {
   "cell_type": "code",
   "execution_count": 11,
   "metadata": {},
   "outputs": [],
   "source": [
    "from keras.models import Sequential\n",
    "from keras.layers import Dense, Activation\n",
    "from keras.optimizers import SGD, Adam"
   ]
  },
  {
   "cell_type": "code",
   "execution_count": 12,
   "metadata": {},
   "outputs": [],
   "source": [
    "model = Sequential()"
   ]
  },
  {
   "cell_type": "code",
   "execution_count": 13,
   "metadata": {},
   "outputs": [],
   "source": [
    "model.add(Dense(100,input_dim = 784))\n",
    "model.add(Activation('sigmoid'))"
   ]
  },
  {
   "cell_type": "code",
   "execution_count": 14,
   "metadata": {},
   "outputs": [],
   "source": [
    "model.add(Dense(500))\n",
    "model.add(Activation('sigmoid'))"
   ]
  },
  {
   "cell_type": "code",
   "execution_count": 15,
   "metadata": {},
   "outputs": [],
   "source": [
    "model.add(Dense(250))\n",
    "model.add(Activation('sigmoid'))"
   ]
  },
  {
   "cell_type": "code",
   "execution_count": 16,
   "metadata": {},
   "outputs": [],
   "source": [
    "model.add(Dense(10))\n",
    "model.add(Activation('softmax'))"
   ]
  },
  {
   "cell_type": "markdown",
   "metadata": {},
   "source": [
    "### 組裝神經網路"
   ]
  },
  {
   "cell_type": "code",
   "execution_count": 17,
   "metadata": {},
   "outputs": [],
   "source": [
    "model.compile(loss='mse', optimizer=SGD(lr=0.5),\n",
    "              metrics=['accuracy'])"
   ]
  },
  {
   "cell_type": "markdown",
   "metadata": {},
   "source": [
    "### 檢視神經網路"
   ]
  },
  {
   "cell_type": "code",
   "execution_count": 18,
   "metadata": {
    "scrolled": true
   },
   "outputs": [
    {
     "name": "stdout",
     "output_type": "stream",
     "text": [
      "_________________________________________________________________\n",
      "Layer (type)                 Output Shape              Param #   \n",
      "=================================================================\n",
      "dense_1 (Dense)              (None, 100)               78500     \n",
      "_________________________________________________________________\n",
      "activation_1 (Activation)    (None, 100)               0         \n",
      "_________________________________________________________________\n",
      "dense_2 (Dense)              (None, 500)               50500     \n",
      "_________________________________________________________________\n",
      "activation_2 (Activation)    (None, 500)               0         \n",
      "_________________________________________________________________\n",
      "dense_3 (Dense)              (None, 250)               125250    \n",
      "_________________________________________________________________\n",
      "activation_3 (Activation)    (None, 250)               0         \n",
      "_________________________________________________________________\n",
      "dense_4 (Dense)              (None, 10)                2510      \n",
      "_________________________________________________________________\n",
      "activation_4 (Activation)    (None, 10)                0         \n",
      "=================================================================\n",
      "Total params: 256,760\n",
      "Trainable params: 256,760\n",
      "Non-trainable params: 0\n",
      "_________________________________________________________________\n"
     ]
    }
   ],
   "source": [
    "model.summary()"
   ]
  },
  {
   "cell_type": "markdown",
   "metadata": {},
   "source": [
    "# 訓練神經網路"
   ]
  },
  {
   "cell_type": "code",
   "execution_count": 19,
   "metadata": {},
   "outputs": [
    {
     "name": "stdout",
     "output_type": "stream",
     "text": [
      "Train on 54000 samples, validate on 6000 samples\n",
      "Epoch 1/50\n",
      "54000/54000 [==============================] - 2s 37us/step - loss: 0.0895 - acc: 0.1720 - val_loss: 0.0885 - val_acc: 0.2890\n",
      "Epoch 2/50\n",
      "54000/54000 [==============================] - 2s 34us/step - loss: 0.0867 - acc: 0.2557 - val_loss: 0.0836 - val_acc: 0.2865\n",
      "Epoch 3/50\n",
      "54000/54000 [==============================] - 2s 35us/step - loss: 0.0783 - acc: 0.3147 - val_loss: 0.0734 - val_acc: 0.3975\n",
      "Epoch 4/50\n",
      "54000/54000 [==============================] - 2s 37us/step - loss: 0.0675 - acc: 0.4663 - val_loss: 0.0604 - val_acc: 0.6108\n",
      "Epoch 5/50\n",
      "54000/54000 [==============================] - 2s 36us/step - loss: 0.0540 - acc: 0.6461 - val_loss: 0.0449 - val_acc: 0.7322\n",
      "Epoch 6/50\n",
      "54000/54000 [==============================] - 2s 36us/step - loss: 0.0393 - acc: 0.7733 - val_loss: 0.0308 - val_acc: 0.8615\n",
      "Epoch 7/50\n",
      "54000/54000 [==============================] - 2s 37us/step - loss: 0.0279 - acc: 0.8581 - val_loss: 0.0208 - val_acc: 0.9007\n",
      "Epoch 8/50\n",
      "54000/54000 [==============================] - 2s 35us/step - loss: 0.0214 - acc: 0.8824 - val_loss: 0.0168 - val_acc: 0.9113\n",
      "Epoch 9/50\n",
      "54000/54000 [==============================] - 2s 36us/step - loss: 0.0186 - acc: 0.8914 - val_loss: 0.0156 - val_acc: 0.9093\n",
      "Epoch 10/50\n",
      "54000/54000 [==============================] - 2s 35us/step - loss: 0.0170 - acc: 0.8976 - val_loss: 0.0139 - val_acc: 0.9197\n",
      "Epoch 11/50\n",
      "54000/54000 [==============================] - 2s 34us/step - loss: 0.0161 - acc: 0.9023 - val_loss: 0.0127 - val_acc: 0.9228\n",
      "Epoch 12/50\n",
      "54000/54000 [==============================] - 2s 36us/step - loss: 0.0153 - acc: 0.9066 - val_loss: 0.0126 - val_acc: 0.9247\n",
      "Epoch 13/50\n",
      "54000/54000 [==============================] - 2s 35us/step - loss: 0.0145 - acc: 0.9110 - val_loss: 0.0118 - val_acc: 0.9285\n",
      "Epoch 14/50\n",
      "54000/54000 [==============================] - 2s 34us/step - loss: 0.0139 - acc: 0.9143 - val_loss: 0.0112 - val_acc: 0.9298\n",
      "Epoch 15/50\n",
      "54000/54000 [==============================] - 2s 35us/step - loss: 0.0136 - acc: 0.9161 - val_loss: 0.0112 - val_acc: 0.9285\n",
      "Epoch 16/50\n",
      "54000/54000 [==============================] - 2s 34us/step - loss: 0.0132 - acc: 0.9175 - val_loss: 0.0111 - val_acc: 0.9322\n",
      "Epoch 17/50\n",
      "54000/54000 [==============================] - 2s 35us/step - loss: 0.0132 - acc: 0.9165 - val_loss: 0.0118 - val_acc: 0.9262\n",
      "Epoch 18/50\n",
      "54000/54000 [==============================] - 2s 35us/step - loss: 0.0130 - acc: 0.9176 - val_loss: 0.0106 - val_acc: 0.9312\n",
      "Epoch 19/50\n",
      "54000/54000 [==============================] - 2s 36us/step - loss: 0.0126 - acc: 0.9217 - val_loss: 0.0105 - val_acc: 0.9338\n",
      "Epoch 20/50\n",
      "54000/54000 [==============================] - 2s 38us/step - loss: 0.0122 - acc: 0.9242 - val_loss: 0.0102 - val_acc: 0.9385\n",
      "Epoch 21/50\n",
      "54000/54000 [==============================] - 2s 34us/step - loss: 0.0124 - acc: 0.9222 - val_loss: 0.0104 - val_acc: 0.9348\n",
      "Epoch 22/50\n",
      "54000/54000 [==============================] - 2s 34us/step - loss: 0.0122 - acc: 0.9238 - val_loss: 0.0107 - val_acc: 0.9325\n",
      "Epoch 23/50\n",
      "54000/54000 [==============================] - 2s 35us/step - loss: 0.0119 - acc: 0.9258 - val_loss: 0.0101 - val_acc: 0.9343\n",
      "Epoch 24/50\n",
      "54000/54000 [==============================] - 2s 35us/step - loss: 0.0117 - acc: 0.9275 - val_loss: 0.0100 - val_acc: 0.9377\n",
      "Epoch 25/50\n",
      "54000/54000 [==============================] - 2s 35us/step - loss: 0.0116 - acc: 0.9274 - val_loss: 0.0100 - val_acc: 0.9363\n",
      "Epoch 26/50\n",
      "54000/54000 [==============================] - 2s 34us/step - loss: 0.0115 - acc: 0.9275 - val_loss: 0.0096 - val_acc: 0.9417\n",
      "Epoch 27/50\n",
      "54000/54000 [==============================] - 2s 34us/step - loss: 0.0112 - acc: 0.9293 - val_loss: 0.0095 - val_acc: 0.9403\n",
      "Epoch 28/50\n",
      "54000/54000 [==============================] - 2s 35us/step - loss: 0.0109 - acc: 0.9312 - val_loss: 0.0091 - val_acc: 0.9438\n",
      "Epoch 29/50\n",
      "54000/54000 [==============================] - 2s 34us/step - loss: 0.0109 - acc: 0.9306 - val_loss: 0.0091 - val_acc: 0.9413\n",
      "Epoch 30/50\n",
      "54000/54000 [==============================] - 2s 35us/step - loss: 0.0113 - acc: 0.9280 - val_loss: 0.0093 - val_acc: 0.9412\n",
      "Epoch 31/50\n",
      "54000/54000 [==============================] - 2s 34us/step - loss: 0.0109 - acc: 0.9312 - val_loss: 0.0086 - val_acc: 0.9478\n",
      "Epoch 32/50\n",
      "54000/54000 [==============================] - 2s 34us/step - loss: 0.0109 - acc: 0.9309 - val_loss: 0.0095 - val_acc: 0.9415\n",
      "Epoch 33/50\n",
      "54000/54000 [==============================] - 2s 34us/step - loss: 0.0108 - acc: 0.9315 - val_loss: 0.0090 - val_acc: 0.9428\n",
      "Epoch 34/50\n",
      "54000/54000 [==============================] - 2s 34us/step - loss: 0.0108 - acc: 0.9310 - val_loss: 0.0095 - val_acc: 0.9407\n",
      "Epoch 35/50\n",
      "54000/54000 [==============================] - 2s 35us/step - loss: 0.0106 - acc: 0.9315 - val_loss: 0.0091 - val_acc: 0.9407\n",
      "Epoch 36/50\n",
      "54000/54000 [==============================] - 2s 35us/step - loss: 0.0109 - acc: 0.9305 - val_loss: 0.0088 - val_acc: 0.9443\n",
      "Epoch 37/50\n",
      "54000/54000 [==============================] - 2s 34us/step - loss: 0.0105 - acc: 0.9337 - val_loss: 0.0088 - val_acc: 0.9462\n",
      "Epoch 38/50\n",
      "54000/54000 [==============================] - 2s 35us/step - loss: 0.0104 - acc: 0.9341 - val_loss: 0.0085 - val_acc: 0.9448\n",
      "Epoch 39/50\n",
      "54000/54000 [==============================] - 2s 34us/step - loss: 0.0105 - acc: 0.9320 - val_loss: 0.0085 - val_acc: 0.9443\n",
      "Epoch 40/50\n",
      "54000/54000 [==============================] - 2s 34us/step - loss: 0.0099 - acc: 0.9369 - val_loss: 0.0084 - val_acc: 0.9455\n",
      "Epoch 41/50\n",
      "54000/54000 [==============================] - 2s 34us/step - loss: 0.0103 - acc: 0.9342 - val_loss: 0.0087 - val_acc: 0.9442\n",
      "Epoch 42/50\n",
      "54000/54000 [==============================] - 2s 34us/step - loss: 0.0101 - acc: 0.9353 - val_loss: 0.0088 - val_acc: 0.9447\n",
      "Epoch 43/50\n",
      "54000/54000 [==============================] - 2s 34us/step - loss: 0.0098 - acc: 0.9384 - val_loss: 0.0085 - val_acc: 0.9455\n",
      "Epoch 44/50\n",
      "54000/54000 [==============================] - 2s 35us/step - loss: 0.0099 - acc: 0.9367 - val_loss: 0.0079 - val_acc: 0.9492\n",
      "Epoch 45/50\n",
      "54000/54000 [==============================] - 2s 35us/step - loss: 0.0093 - acc: 0.9404 - val_loss: 0.0083 - val_acc: 0.9467\n",
      "Epoch 46/50\n",
      "54000/54000 [==============================] - 2s 34us/step - loss: 0.0099 - acc: 0.9367 - val_loss: 0.0099 - val_acc: 0.9353\n",
      "Epoch 47/50\n",
      "54000/54000 [==============================] - 2s 35us/step - loss: 0.0101 - acc: 0.9361 - val_loss: 0.0083 - val_acc: 0.9475\n",
      "Epoch 48/50\n",
      "54000/54000 [==============================] - 2s 34us/step - loss: 0.0094 - acc: 0.9396 - val_loss: 0.0080 - val_acc: 0.9495\n",
      "Epoch 49/50\n",
      "54000/54000 [==============================] - 2s 35us/step - loss: 0.0097 - acc: 0.9377 - val_loss: 0.0085 - val_acc: 0.9430\n",
      "Epoch 50/50\n",
      "54000/54000 [==============================] - 2s 35us/step - loss: 0.0095 - acc: 0.9389 - val_loss: 0.0081 - val_acc: 0.9482\n"
     ]
    }
   ],
   "source": [
    "history = model.fit(x_train, y_train, batch_size=100, epochs=50, validation_split=0.1)"
   ]
  },
  {
   "cell_type": "code",
   "execution_count": 20,
   "metadata": {},
   "outputs": [
    {
     "data": {
      "text/plain": [
       "[<matplotlib.lines.Line2D at 0x189e38d0>]"
      ]
     },
     "execution_count": 20,
     "metadata": {},
     "output_type": "execute_result"
    },
    {
     "data": {
      "image/png": "[encoded data removed]",
      "text/plain": [
       "<Figure size 432x288 with 1 Axes>"
      ]
     },
     "metadata": {},
     "output_type": "display_data"
    }
   ],
   "source": [
    "plt.plot(history.history['acc'])"
   ]
  },
  {
   "cell_type": "code",
   "execution_count": 21,
   "metadata": {},
   "outputs": [],
   "source": [
    "from sklearn import metrics \n",
    "from sklearn.metrics import classification_report\n",
    "from sklearn.metrics import confusion_matrix"
   ]
  },
  {
   "cell_type": "code",
   "execution_count": 108,
   "metadata": {},
   "outputs": [
    {
     "name": "stdout",
     "output_type": "stream",
     "text": [
      "Train data：\n",
      "             precision    recall  f1-score   support\n",
      "\n",
      "          0       0.96      0.98      0.97      5923\n",
      "          1       0.97      0.98      0.97      6742\n",
      "          2       0.95      0.93      0.94      5958\n",
      "          3       0.92      0.93      0.93      6131\n",
      "          4       0.94      0.94      0.94      5842\n",
      "          5       0.93      0.91      0.92      5421\n",
      "          6       0.95      0.97      0.96      5918\n",
      "          7       0.95      0.95      0.95      6265\n",
      "          8       0.94      0.92      0.93      5851\n",
      "          9       0.91      0.93      0.92      5949\n",
      "\n",
      "avg / total       0.94      0.94      0.94     60000\n",
      "\n"
     ]
    },
    {
     "data": {
      "text/plain": [
       "0.9429166666666666"
      ]
     },
     "execution_count": 108,
     "metadata": {},
     "output_type": "execute_result"
    }
   ],
   "source": [
    "#用classification_report可以看看每個數字的精確度(非準確率)\n",
    "\n",
    "print(\"Train data：\")\n",
    "print(classification_report(y_train.argmax(1), model.predict(x_train).argmax(1)))\n",
    "metrics.accuracy_score(y_train.argmax(1), model.predict(x_train).argmax(1))"
   ]
  },
  {
   "cell_type": "code",
   "execution_count": 109,
   "metadata": {},
   "outputs": [
    {
     "name": "stdout",
     "output_type": "stream",
     "text": [
      "Test data：\n",
      "             precision    recall  f1-score   support\n",
      "\n",
      "          0       0.95      0.98      0.96       980\n",
      "          1       0.97      0.98      0.98      1135\n",
      "          2       0.95      0.92      0.94      1032\n",
      "          3       0.92      0.94      0.93      1010\n",
      "          4       0.93      0.93      0.93       982\n",
      "          5       0.92      0.90      0.91       892\n",
      "          6       0.94      0.96      0.95       958\n",
      "          7       0.95      0.94      0.94      1028\n",
      "          8       0.94      0.92      0.93       974\n",
      "          9       0.92      0.92      0.92      1009\n",
      "\n",
      "avg / total       0.94      0.94      0.94     10000\n",
      "\n"
     ]
    },
    {
     "data": {
      "text/plain": [
       "0.9396"
      ]
     },
     "execution_count": 109,
     "metadata": {},
     "output_type": "execute_result"
    }
   ],
   "source": [
    "print(\"Test data：\")\n",
    "print(classification_report(y_test.argmax(1), model.predict(x_test).argmax(1)))\n",
    "metrics.accuracy_score(y_test.argmax(1), model.predict(x_test).argmax(1))"
   ]
  },
  {
   "cell_type": "code",
   "execution_count": 24,
   "metadata": {},
   "outputs": [
    {
     "data": {
      "text/html": [
       "<div>\n",
       "<style scoped>\n",
       "    .dataframe tbody tr th:only-of-type {\n",
       "        vertical-align: middle;\n",
       "    }\n",
       "\n",
       "    .dataframe tbody tr th {\n",
       "        vertical-align: top;\n",
       "    }\n",
       "\n",
       "    .dataframe thead th {\n",
       "        text-align: right;\n",
       "    }\n",
       "</style>\n",
       "<table border=\"1\" class=\"dataframe\">\n",
       "  <thead>\n",
       "    <tr style=\"text-align: right;\">\n",
       "      <th></th>\n",
       "      <th>predict_0</th>\n",
       "      <th>predict_1</th>\n",
       "      <th>predict_2</th>\n",
       "      <th>predict_3</th>\n",
       "      <th>predict_4</th>\n",
       "      <th>predict_5</th>\n",
       "      <th>predict_6</th>\n",
       "      <th>predict_7</th>\n",
       "      <th>predict_8</th>\n",
       "      <th>predict_9</th>\n",
       "    </tr>\n",
       "  </thead>\n",
       "  <tbody>\n",
       "    <tr>\n",
       "      <th>true_0</th>\n",
       "      <td>5789</td>\n",
       "      <td>0</td>\n",
       "      <td>9</td>\n",
       "      <td>8</td>\n",
       "      <td>8</td>\n",
       "      <td>27</td>\n",
       "      <td>37</td>\n",
       "      <td>17</td>\n",
       "      <td>19</td>\n",
       "      <td>9</td>\n",
       "    </tr>\n",
       "    <tr>\n",
       "      <th>true_1</th>\n",
       "      <td>1</td>\n",
       "      <td>6586</td>\n",
       "      <td>30</td>\n",
       "      <td>37</td>\n",
       "      <td>10</td>\n",
       "      <td>3</td>\n",
       "      <td>5</td>\n",
       "      <td>12</td>\n",
       "      <td>43</td>\n",
       "      <td>15</td>\n",
       "    </tr>\n",
       "    <tr>\n",
       "      <th>true_2</th>\n",
       "      <td>34</td>\n",
       "      <td>46</td>\n",
       "      <td>5520</td>\n",
       "      <td>85</td>\n",
       "      <td>53</td>\n",
       "      <td>9</td>\n",
       "      <td>59</td>\n",
       "      <td>80</td>\n",
       "      <td>56</td>\n",
       "      <td>16</td>\n",
       "    </tr>\n",
       "    <tr>\n",
       "      <th>true_3</th>\n",
       "      <td>31</td>\n",
       "      <td>13</td>\n",
       "      <td>100</td>\n",
       "      <td>5683</td>\n",
       "      <td>5</td>\n",
       "      <td>109</td>\n",
       "      <td>14</td>\n",
       "      <td>54</td>\n",
       "      <td>72</td>\n",
       "      <td>50</td>\n",
       "    </tr>\n",
       "    <tr>\n",
       "      <th>true_4</th>\n",
       "      <td>7</td>\n",
       "      <td>22</td>\n",
       "      <td>20</td>\n",
       "      <td>6</td>\n",
       "      <td>5466</td>\n",
       "      <td>1</td>\n",
       "      <td>83</td>\n",
       "      <td>13</td>\n",
       "      <td>18</td>\n",
       "      <td>206</td>\n",
       "    </tr>\n",
       "    <tr>\n",
       "      <th>true_5</th>\n",
       "      <td>75</td>\n",
       "      <td>6</td>\n",
       "      <td>22</td>\n",
       "      <td>132</td>\n",
       "      <td>41</td>\n",
       "      <td>4936</td>\n",
       "      <td>66</td>\n",
       "      <td>21</td>\n",
       "      <td>88</td>\n",
       "      <td>34</td>\n",
       "    </tr>\n",
       "    <tr>\n",
       "      <th>true_6</th>\n",
       "      <td>36</td>\n",
       "      <td>16</td>\n",
       "      <td>14</td>\n",
       "      <td>0</td>\n",
       "      <td>29</td>\n",
       "      <td>53</td>\n",
       "      <td>5751</td>\n",
       "      <td>1</td>\n",
       "      <td>17</td>\n",
       "      <td>1</td>\n",
       "    </tr>\n",
       "    <tr>\n",
       "      <th>true_7</th>\n",
       "      <td>10</td>\n",
       "      <td>39</td>\n",
       "      <td>44</td>\n",
       "      <td>38</td>\n",
       "      <td>41</td>\n",
       "      <td>14</td>\n",
       "      <td>3</td>\n",
       "      <td>5946</td>\n",
       "      <td>8</td>\n",
       "      <td>122</td>\n",
       "    </tr>\n",
       "    <tr>\n",
       "      <th>true_8</th>\n",
       "      <td>17</td>\n",
       "      <td>55</td>\n",
       "      <td>44</td>\n",
       "      <td>96</td>\n",
       "      <td>31</td>\n",
       "      <td>79</td>\n",
       "      <td>54</td>\n",
       "      <td>13</td>\n",
       "      <td>5370</td>\n",
       "      <td>92</td>\n",
       "    </tr>\n",
       "    <tr>\n",
       "      <th>true_9</th>\n",
       "      <td>22</td>\n",
       "      <td>18</td>\n",
       "      <td>9</td>\n",
       "      <td>67</td>\n",
       "      <td>109</td>\n",
       "      <td>54</td>\n",
       "      <td>3</td>\n",
       "      <td>92</td>\n",
       "      <td>47</td>\n",
       "      <td>5528</td>\n",
       "    </tr>\n",
       "  </tbody>\n",
       "</table>\n",
       "</div>"
      ],
      "text/plain": [
       "        predict_0  predict_1  predict_2  predict_3  predict_4  predict_5  \\\n",
       "true_0       5789          0          9          8          8         27   \n",
       "true_1          1       6586         30         37         10          3   \n",
       "true_2         34         46       5520         85         53          9   \n",
       "true_3         31         13        100       5683          5        109   \n",
       "true_4          7         22         20          6       5466          1   \n",
       "true_5         75          6         22        132         41       4936   \n",
       "true_6         36         16         14          0         29         53   \n",
       "true_7         10         39         44         38         41         14   \n",
       "true_8         17         55         44         96         31         79   \n",
       "true_9         22         18          9         67        109         54   \n",
       "\n",
       "        predict_6  predict_7  predict_8  predict_9  \n",
       "true_0         37         17         19          9  \n",
       "true_1          5         12         43         15  \n",
       "true_2         59         80         56         16  \n",
       "true_3         14         54         72         50  \n",
       "true_4         83         13         18        206  \n",
       "true_5         66         21         88         34  \n",
       "true_6       5751          1         17          1  \n",
       "true_7          3       5946          8        122  \n",
       "true_8         54         13       5370         92  \n",
       "true_9          3         92         47       5528  "
      ]
     },
     "execution_count": 24,
     "metadata": {},
     "output_type": "execute_result"
    }
   ],
   "source": [
    "#confusion_matrix可以看出每個預測錯誤的是預測成哪一個\n",
    "CMtrain = confusion_matrix(y_train.argmax(1), model.predict(x_train).argmax(1))\n",
    "CMtrain = pd.DataFrame(CMtrain,index = [\"true_0\",\"true_1\",\"true_2\",\"true_3\",\"true_4\",\"true_5\",\"true_6\",\"true_7\",\"true_8\",\"true_9\"],\n",
    "                     columns = [\"predict_0\",\"predict_1\",\"predict_2\",\"predict_3\",\"predict_4\",\"predict_5\",\"predict_6\",\"predict_7\",\"predict_8\",\"predict_9\"])\n",
    "CMtrain"
   ]
  },
  {
   "cell_type": "code",
   "execution_count": 25,
   "metadata": {},
   "outputs": [
    {
     "data": {
      "text/html": [
       "<div>\n",
       "<style scoped>\n",
       "    .dataframe tbody tr th:only-of-type {\n",
       "        vertical-align: middle;\n",
       "    }\n",
       "\n",
       "    .dataframe tbody tr th {\n",
       "        vertical-align: top;\n",
       "    }\n",
       "\n",
       "    .dataframe thead th {\n",
       "        text-align: right;\n",
       "    }\n",
       "</style>\n",
       "<table border=\"1\" class=\"dataframe\">\n",
       "  <thead>\n",
       "    <tr style=\"text-align: right;\">\n",
       "      <th></th>\n",
       "      <th>predict_0</th>\n",
       "      <th>predict_1</th>\n",
       "      <th>predict_2</th>\n",
       "      <th>predict_3</th>\n",
       "      <th>predict_4</th>\n",
       "      <th>predict_5</th>\n",
       "      <th>predict_6</th>\n",
       "      <th>predict_7</th>\n",
       "      <th>predict_8</th>\n",
       "      <th>predict_9</th>\n",
       "    </tr>\n",
       "  </thead>\n",
       "  <tbody>\n",
       "    <tr>\n",
       "      <th>true_0</th>\n",
       "      <td>958</td>\n",
       "      <td>0</td>\n",
       "      <td>2</td>\n",
       "      <td>2</td>\n",
       "      <td>1</td>\n",
       "      <td>4</td>\n",
       "      <td>9</td>\n",
       "      <td>3</td>\n",
       "      <td>1</td>\n",
       "      <td>0</td>\n",
       "    </tr>\n",
       "    <tr>\n",
       "      <th>true_1</th>\n",
       "      <td>0</td>\n",
       "      <td>1114</td>\n",
       "      <td>3</td>\n",
       "      <td>2</td>\n",
       "      <td>0</td>\n",
       "      <td>1</td>\n",
       "      <td>4</td>\n",
       "      <td>3</td>\n",
       "      <td>7</td>\n",
       "      <td>1</td>\n",
       "    </tr>\n",
       "    <tr>\n",
       "      <th>true_2</th>\n",
       "      <td>15</td>\n",
       "      <td>4</td>\n",
       "      <td>950</td>\n",
       "      <td>18</td>\n",
       "      <td>8</td>\n",
       "      <td>0</td>\n",
       "      <td>15</td>\n",
       "      <td>13</td>\n",
       "      <td>4</td>\n",
       "      <td>5</td>\n",
       "    </tr>\n",
       "    <tr>\n",
       "      <th>true_3</th>\n",
       "      <td>2</td>\n",
       "      <td>1</td>\n",
       "      <td>11</td>\n",
       "      <td>949</td>\n",
       "      <td>0</td>\n",
       "      <td>20</td>\n",
       "      <td>1</td>\n",
       "      <td>10</td>\n",
       "      <td>11</td>\n",
       "      <td>5</td>\n",
       "    </tr>\n",
       "    <tr>\n",
       "      <th>true_4</th>\n",
       "      <td>2</td>\n",
       "      <td>3</td>\n",
       "      <td>3</td>\n",
       "      <td>1</td>\n",
       "      <td>915</td>\n",
       "      <td>1</td>\n",
       "      <td>14</td>\n",
       "      <td>1</td>\n",
       "      <td>2</td>\n",
       "      <td>40</td>\n",
       "    </tr>\n",
       "    <tr>\n",
       "      <th>true_5</th>\n",
       "      <td>10</td>\n",
       "      <td>1</td>\n",
       "      <td>1</td>\n",
       "      <td>35</td>\n",
       "      <td>5</td>\n",
       "      <td>802</td>\n",
       "      <td>8</td>\n",
       "      <td>7</td>\n",
       "      <td>19</td>\n",
       "      <td>4</td>\n",
       "    </tr>\n",
       "    <tr>\n",
       "      <th>true_6</th>\n",
       "      <td>9</td>\n",
       "      <td>3</td>\n",
       "      <td>5</td>\n",
       "      <td>0</td>\n",
       "      <td>9</td>\n",
       "      <td>11</td>\n",
       "      <td>917</td>\n",
       "      <td>2</td>\n",
       "      <td>2</td>\n",
       "      <td>0</td>\n",
       "    </tr>\n",
       "    <tr>\n",
       "      <th>true_7</th>\n",
       "      <td>1</td>\n",
       "      <td>10</td>\n",
       "      <td>19</td>\n",
       "      <td>7</td>\n",
       "      <td>7</td>\n",
       "      <td>0</td>\n",
       "      <td>0</td>\n",
       "      <td>963</td>\n",
       "      <td>0</td>\n",
       "      <td>21</td>\n",
       "    </tr>\n",
       "    <tr>\n",
       "      <th>true_8</th>\n",
       "      <td>5</td>\n",
       "      <td>5</td>\n",
       "      <td>4</td>\n",
       "      <td>13</td>\n",
       "      <td>11</td>\n",
       "      <td>17</td>\n",
       "      <td>9</td>\n",
       "      <td>4</td>\n",
       "      <td>896</td>\n",
       "      <td>10</td>\n",
       "    </tr>\n",
       "    <tr>\n",
       "      <th>true_9</th>\n",
       "      <td>6</td>\n",
       "      <td>6</td>\n",
       "      <td>1</td>\n",
       "      <td>7</td>\n",
       "      <td>26</td>\n",
       "      <td>14</td>\n",
       "      <td>1</td>\n",
       "      <td>9</td>\n",
       "      <td>7</td>\n",
       "      <td>932</td>\n",
       "    </tr>\n",
       "  </tbody>\n",
       "</table>\n",
       "</div>"
      ],
      "text/plain": [
       "        predict_0  predict_1  predict_2  predict_3  predict_4  predict_5  \\\n",
       "true_0        958          0          2          2          1          4   \n",
       "true_1          0       1114          3          2          0          1   \n",
       "true_2         15          4        950         18          8          0   \n",
       "true_3          2          1         11        949          0         20   \n",
       "true_4          2          3          3          1        915          1   \n",
       "true_5         10          1          1         35          5        802   \n",
       "true_6          9          3          5          0          9         11   \n",
       "true_7          1         10         19          7          7          0   \n",
       "true_8          5          5          4         13         11         17   \n",
       "true_9          6          6          1          7         26         14   \n",
       "\n",
       "        predict_6  predict_7  predict_8  predict_9  \n",
       "true_0          9          3          1          0  \n",
       "true_1          4          3          7          1  \n",
       "true_2         15         13          4          5  \n",
       "true_3          1         10         11          5  \n",
       "true_4         14          1          2         40  \n",
       "true_5          8          7         19          4  \n",
       "true_6        917          2          2          0  \n",
       "true_7          0        963          0         21  \n",
       "true_8          9          4        896         10  \n",
       "true_9          1          9          7        932  "
      ]
     },
     "execution_count": 25,
     "metadata": {},
     "output_type": "execute_result"
    }
   ],
   "source": [
    "CMtest = confusion_matrix(y_test.argmax(1), model.predict(x_test).argmax(1))\n",
    "CMtest = pd.DataFrame(CMtest,index = [\"true_0\",\"true_1\",\"true_2\",\"true_3\",\"true_4\",\"true_5\",\"true_6\",\"true_7\",\"true_8\",\"true_9\"],\n",
    "                     columns = [\"predict_0\",\"predict_1\",\"predict_2\",\"predict_3\",\"predict_4\",\"predict_5\",\"predict_6\",\"predict_7\",\"predict_8\",\"predict_9\"])\n",
    "CMtest"
   ]
  },
  {
   "cell_type": "markdown",
   "metadata": {},
   "source": [
    "# 將loss function換成適合多分類問題的cross entropy"
   ]
  },
  {
   "cell_type": "code",
   "execution_count": 42,
   "metadata": {},
   "outputs": [],
   "source": [
    "model2 = Sequential()"
   ]
  },
  {
   "cell_type": "code",
   "execution_count": 43,
   "metadata": {},
   "outputs": [],
   "source": [
    "model2.add(Dense(100,input_dim = 784))\n",
    "model2.add(Activation('sigmoid'))"
   ]
  },
  {
   "cell_type": "code",
   "execution_count": 44,
   "metadata": {},
   "outputs": [],
   "source": [
    "model2.add(Dense(500))\n",
    "model2.add(Activation('sigmoid'))"
   ]
  },
  {
   "cell_type": "code",
   "execution_count": 45,
   "metadata": {},
   "outputs": [],
   "source": [
    "model2.add(Dense(250))\n",
    "model2.add(Activation('sigmoid'))"
   ]
  },
  {
   "cell_type": "code",
   "execution_count": 46,
   "metadata": {},
   "outputs": [],
   "source": [
    "model2.add(Dense(10))\n",
    "model2.add(Activation('softmax'))"
   ]
  },
  {
   "cell_type": "code",
   "execution_count": 47,
   "metadata": {},
   "outputs": [],
   "source": [
    "model2.compile(loss='categorical_crossentropy', optimizer=SGD(lr=0.03),\n",
    "               metrics=['accuracy'])"
   ]
  },
  {
   "cell_type": "code",
   "execution_count": 48,
   "metadata": {},
   "outputs": [
    {
     "name": "stdout",
     "output_type": "stream",
     "text": [
      "_________________________________________________________________\n",
      "Layer (type)                 Output Shape              Param #   \n",
      "=================================================================\n",
      "dense_13 (Dense)             (None, 100)               78500     \n",
      "_________________________________________________________________\n",
      "activation_13 (Activation)   (None, 100)               0         \n",
      "_________________________________________________________________\n",
      "dense_14 (Dense)             (None, 500)               50500     \n",
      "_________________________________________________________________\n",
      "activation_14 (Activation)   (None, 500)               0         \n",
      "_________________________________________________________________\n",
      "dense_15 (Dense)             (None, 250)               125250    \n",
      "_________________________________________________________________\n",
      "activation_15 (Activation)   (None, 250)               0         \n",
      "_________________________________________________________________\n",
      "dense_16 (Dense)             (None, 10)                2510      \n",
      "_________________________________________________________________\n",
      "activation_16 (Activation)   (None, 10)                0         \n",
      "=================================================================\n",
      "Total params: 256,760\n",
      "Trainable params: 256,760\n",
      "Non-trainable params: 0\n",
      "_________________________________________________________________\n"
     ]
    }
   ],
   "source": [
    "model2.summary()"
   ]
  },
  {
   "cell_type": "code",
   "execution_count": 49,
   "metadata": {},
   "outputs": [
    {
     "name": "stdout",
     "output_type": "stream",
     "text": [
      "Train on 54000 samples, validate on 6000 samples\n",
      "Epoch 1/50\n",
      "54000/54000 [==============================] - 2s 40us/step - loss: 2.1999 - acc: 0.2912 - val_loss: 2.0028 - val_acc: 0.4667\n",
      "Epoch 2/50\n",
      "54000/54000 [==============================] - 2s 36us/step - loss: 1.5865 - acc: 0.6076 - val_loss: 1.1500 - val_acc: 0.7428\n",
      "Epoch 3/50\n",
      "54000/54000 [==============================] - 2s 35us/step - loss: 0.9360 - acc: 0.7748 - val_loss: 0.6941 - val_acc: 0.8512\n",
      "Epoch 4/50\n",
      "54000/54000 [==============================] - 2s 35us/step - loss: 0.6335 - acc: 0.8461 - val_loss: 0.4891 - val_acc: 0.8880\n",
      "Epoch 5/50\n",
      "54000/54000 [==============================] - 2s 35us/step - loss: 0.4935 - acc: 0.8748 - val_loss: 0.4127 - val_acc: 0.9010\n",
      "Epoch 6/50\n",
      "54000/54000 [==============================] - 2s 35us/step - loss: 0.4361 - acc: 0.8866 - val_loss: 0.3529 - val_acc: 0.9112\n",
      "Epoch 7/50\n",
      "54000/54000 [==============================] - 2s 36us/step - loss: 0.3909 - acc: 0.8935 - val_loss: 0.3428 - val_acc: 0.9110\n",
      "Epoch 8/50\n",
      "54000/54000 [==============================] - 2s 35us/step - loss: 0.3706 - acc: 0.8988 - val_loss: 0.3126 - val_acc: 0.9212\n",
      "Epoch 9/50\n",
      "54000/54000 [==============================] - 2s 35us/step - loss: 0.3537 - acc: 0.9013 - val_loss: 0.2947 - val_acc: 0.9222\n",
      "Epoch 10/50\n",
      "54000/54000 [==============================] - 2s 36us/step - loss: 0.3359 - acc: 0.9073 - val_loss: 0.2800 - val_acc: 0.9272\n",
      "Epoch 11/50\n",
      "54000/54000 [==============================] - 2s 35us/step - loss: 0.3145 - acc: 0.9127 - val_loss: 0.2740 - val_acc: 0.9240\n",
      "Epoch 12/50\n",
      "54000/54000 [==============================] - 2s 35us/step - loss: 0.3138 - acc: 0.9117 - val_loss: 0.2639 - val_acc: 0.9302\n",
      "Epoch 13/50\n",
      "54000/54000 [==============================] - 2s 36us/step - loss: 0.2972 - acc: 0.9166 - val_loss: 0.2587 - val_acc: 0.9297\n",
      "Epoch 14/50\n",
      "54000/54000 [==============================] - 2s 36us/step - loss: 0.3000 - acc: 0.9144 - val_loss: 0.2432 - val_acc: 0.9323\n",
      "Epoch 15/50\n",
      "54000/54000 [==============================] - 2s 36us/step - loss: 0.2843 - acc: 0.9186 - val_loss: 0.2393 - val_acc: 0.9352\n",
      "Epoch 16/50\n",
      "54000/54000 [==============================] - 2s 35us/step - loss: 0.2859 - acc: 0.9188 - val_loss: 0.2344 - val_acc: 0.9355\n",
      "Epoch 17/50\n",
      "54000/54000 [==============================] - 2s 35us/step - loss: 0.2804 - acc: 0.9187 - val_loss: 0.2646 - val_acc: 0.9235\n",
      "Epoch 18/50\n",
      "54000/54000 [==============================] - 2s 35us/step - loss: 0.2716 - acc: 0.9223 - val_loss: 0.2376 - val_acc: 0.9313\n",
      "Epoch 19/50\n",
      "54000/54000 [==============================] - 2s 35us/step - loss: 0.2673 - acc: 0.9227 - val_loss: 0.2196 - val_acc: 0.9423\n",
      "Epoch 20/50\n",
      "54000/54000 [==============================] - 2s 36us/step - loss: 0.2562 - acc: 0.9258 - val_loss: 0.2120 - val_acc: 0.9425\n",
      "Epoch 21/50\n",
      "54000/54000 [==============================] - 2s 36us/step - loss: 0.2543 - acc: 0.9269 - val_loss: 0.2194 - val_acc: 0.9347\n",
      "Epoch 22/50\n",
      "54000/54000 [==============================] - 2s 37us/step - loss: 0.2581 - acc: 0.9237 - val_loss: 0.2337 - val_acc: 0.9312\n",
      "Epoch 23/50\n",
      "54000/54000 [==============================] - 2s 35us/step - loss: 0.2582 - acc: 0.9235 - val_loss: 0.2136 - val_acc: 0.9395\n",
      "Epoch 24/50\n",
      "54000/54000 [==============================] - 2s 36us/step - loss: 0.2466 - acc: 0.9276 - val_loss: 0.2204 - val_acc: 0.9342\n",
      "Epoch 25/50\n",
      "54000/54000 [==============================] - 2s 35us/step - loss: 0.2490 - acc: 0.9268 - val_loss: 0.2045 - val_acc: 0.9437\n",
      "Epoch 26/50\n",
      "54000/54000 [==============================] - 2s 36us/step - loss: 0.2322 - acc: 0.9319 - val_loss: 0.2030 - val_acc: 0.9430\n",
      "Epoch 27/50\n",
      "54000/54000 [==============================] - 2s 36us/step - loss: 0.2299 - acc: 0.9328 - val_loss: 0.2072 - val_acc: 0.9422\n",
      "Epoch 28/50\n",
      "54000/54000 [==============================] - 2s 36us/step - loss: 0.2327 - acc: 0.9322 - val_loss: 0.1926 - val_acc: 0.9465\n",
      "Epoch 29/50\n",
      "54000/54000 [==============================] - 2s 35us/step - loss: 0.2279 - acc: 0.9337 - val_loss: 0.2077 - val_acc: 0.9423\n",
      "Epoch 30/50\n",
      "54000/54000 [==============================] - 2s 38us/step - loss: 0.2301 - acc: 0.9336 - val_loss: 0.1999 - val_acc: 0.9442\n",
      "Epoch 31/50\n",
      "54000/54000 [==============================] - 2s 39us/step - loss: 0.2341 - acc: 0.9319 - val_loss: 0.2132 - val_acc: 0.9398\n",
      "Epoch 32/50\n",
      "54000/54000 [==============================] - 2s 36us/step - loss: 0.2423 - acc: 0.9274 - val_loss: 0.2047 - val_acc: 0.9410\n",
      "Epoch 33/50\n",
      "54000/54000 [==============================] - 2s 36us/step - loss: 0.2342 - acc: 0.9310 - val_loss: 0.1960 - val_acc: 0.9397\n",
      "Epoch 34/50\n",
      "54000/54000 [==============================] - 2s 38us/step - loss: 0.2255 - acc: 0.9337 - val_loss: 0.1908 - val_acc: 0.9465\n",
      "Epoch 35/50\n",
      "54000/54000 [==============================] - 2s 37us/step - loss: 0.2211 - acc: 0.9344 - val_loss: 0.1975 - val_acc: 0.9388\n",
      "Epoch 36/50\n",
      "54000/54000 [==============================] - 2s 38us/step - loss: 0.2194 - acc: 0.9348 - val_loss: 0.1972 - val_acc: 0.9423\n",
      "Epoch 37/50\n",
      "54000/54000 [==============================] - 2s 38us/step - loss: 0.2179 - acc: 0.9349 - val_loss: 0.1815 - val_acc: 0.9493\n",
      "Epoch 38/50\n",
      "54000/54000 [==============================] - 2s 38us/step - loss: 0.2152 - acc: 0.9360 - val_loss: 0.1975 - val_acc: 0.9400\n",
      "Epoch 39/50\n",
      "54000/54000 [==============================] - 2s 41us/step - loss: 0.2066 - acc: 0.9378 - val_loss: 0.1922 - val_acc: 0.9417\n",
      "Epoch 40/50\n",
      "54000/54000 [==============================] - 2s 36us/step - loss: 0.2072 - acc: 0.9374 - val_loss: 0.1923 - val_acc: 0.9443\n",
      "Epoch 41/50\n",
      "54000/54000 [==============================] - 2s 36us/step - loss: 0.2117 - acc: 0.9369 - val_loss: 0.1726 - val_acc: 0.9503\n",
      "Epoch 42/50\n",
      "54000/54000 [==============================] - 2s 35us/step - loss: 0.2031 - acc: 0.9386 - val_loss: 0.1786 - val_acc: 0.9463\n",
      "Epoch 43/50\n",
      "54000/54000 [==============================] - 2s 37us/step - loss: 0.2012 - acc: 0.9390 - val_loss: 0.1951 - val_acc: 0.9413\n",
      "Epoch 44/50\n",
      "54000/54000 [==============================] - 2s 35us/step - loss: 0.2005 - acc: 0.9398 - val_loss: 0.1724 - val_acc: 0.9495\n",
      "Epoch 45/50\n",
      "54000/54000 [==============================] - 2s 34us/step - loss: 0.2023 - acc: 0.9387 - val_loss: 0.1855 - val_acc: 0.9458\n",
      "Epoch 46/50\n",
      "54000/54000 [==============================] - 2s 34us/step - loss: 0.2143 - acc: 0.9344 - val_loss: 0.1818 - val_acc: 0.9493\n",
      "Epoch 47/50\n",
      "54000/54000 [==============================] - 2s 34us/step - loss: 0.1956 - acc: 0.9416 - val_loss: 0.1838 - val_acc: 0.9477\n",
      "Epoch 48/50\n",
      "54000/54000 [==============================] - 2s 32us/step - loss: 0.2078 - acc: 0.9371 - val_loss: 0.1961 - val_acc: 0.9433\n",
      "Epoch 49/50\n",
      "54000/54000 [==============================] - 2s 35us/step - loss: 0.1986 - acc: 0.9398 - val_loss: 0.1722 - val_acc: 0.9508\n",
      "Epoch 50/50\n",
      "54000/54000 [==============================] - 2s 34us/step - loss: 0.2056 - acc: 0.9378 - val_loss: 0.1885 - val_acc: 0.9455\n"
     ]
    }
   ],
   "source": [
    "history2 = model2.fit(x_train, y_train, batch_size=100, epochs=50, validation_split=0.1)"
   ]
  },
  {
   "cell_type": "code",
   "execution_count": 50,
   "metadata": {},
   "outputs": [
    {
     "data": {
      "text/plain": [
       "[<matplotlib.lines.Line2D at 0x1c8f1940>]"
      ]
     },
     "execution_count": 50,
     "metadata": {},
     "output_type": "execute_result"
    },
    {
     "data": {
      "image/png": "[encoded data removed]",
      "text/plain": [
       "<Figure size 432x288 with 1 Axes>"
      ]
     },
     "metadata": {},
     "output_type": "display_data"
    }
   ],
   "source": [
    "plt.plot(history2.history['acc'])"
   ]
  },
  {
   "cell_type": "markdown",
   "metadata": {},
   "source": [
    "# 將優化器換成神經網路界鼎鼎大名的relu"
   ]
  },
  {
   "cell_type": "code",
   "execution_count": 118,
   "metadata": {},
   "outputs": [],
   "source": [
    "model3 = Sequential()"
   ]
  },
  {
   "cell_type": "code",
   "execution_count": 119,
   "metadata": {},
   "outputs": [],
   "source": [
    "model3.add(Dense(100,input_dim = 784))\n",
    "model3.add(Activation('relu'))"
   ]
  },
  {
   "cell_type": "code",
   "execution_count": 120,
   "metadata": {},
   "outputs": [],
   "source": [
    "model3.add(Dense(500))\n",
    "model3.add(Activation('relu'))"
   ]
  },
  {
   "cell_type": "code",
   "execution_count": 121,
   "metadata": {},
   "outputs": [],
   "source": [
    "model3.add(Dense(250))\n",
    "model3.add(Activation('relu'))"
   ]
  },
  {
   "cell_type": "code",
   "execution_count": 122,
   "metadata": {},
   "outputs": [],
   "source": [
    "model3.add(Dense(10))\n",
    "model3.add(Activation('softmax'))"
   ]
  },
  {
   "cell_type": "code",
   "execution_count": 123,
   "metadata": {},
   "outputs": [],
   "source": [
    "model3.compile(loss='categorical_crossentropy', optimizer=SGD(lr=0.005),\n",
    "               metrics=['accuracy'])"
   ]
  },
  {
   "cell_type": "code",
   "execution_count": 124,
   "metadata": {},
   "outputs": [
    {
     "name": "stdout",
     "output_type": "stream",
     "text": [
      "_________________________________________________________________\n",
      "Layer (type)                 Output Shape              Param #   \n",
      "=================================================================\n",
      "dense_42 (Dense)             (None, 100)               78500     \n",
      "_________________________________________________________________\n",
      "activation_42 (Activation)   (None, 100)               0         \n",
      "_________________________________________________________________\n",
      "dense_43 (Dense)             (None, 500)               50500     \n",
      "_________________________________________________________________\n",
      "activation_43 (Activation)   (None, 500)               0         \n",
      "_________________________________________________________________\n",
      "dense_44 (Dense)             (None, 250)               125250    \n",
      "_________________________________________________________________\n",
      "activation_44 (Activation)   (None, 250)               0         \n",
      "_________________________________________________________________\n",
      "dense_45 (Dense)             (None, 10)                2510      \n",
      "_________________________________________________________________\n",
      "activation_45 (Activation)   (None, 10)                0         \n",
      "=================================================================\n",
      "Total params: 256,760\n",
      "Trainable params: 256,760\n",
      "Non-trainable params: 0\n",
      "_________________________________________________________________\n"
     ]
    }
   ],
   "source": [
    "model3.summary()"
   ]
  },
  {
   "cell_type": "code",
   "execution_count": 125,
   "metadata": {
    "scrolled": true
   },
   "outputs": [
    {
     "name": "stdout",
     "output_type": "stream",
     "text": [
      "Train on 54000 samples, validate on 6000 samples\n",
      "Epoch 1/50\n",
      "54000/54000 [==============================] - 2s 43us/step - loss: 8.8050 - acc: 0.4440 - val_loss: 5.3733 - val_acc: 0.6470\n",
      "Epoch 2/50\n",
      "54000/54000 [==============================] - 2s 36us/step - loss: 1.9736 - acc: 0.8385 - val_loss: 0.3239 - val_acc: 0.9303\n",
      "Epoch 3/50\n",
      "54000/54000 [==============================] - 2s 36us/step - loss: 0.2875 - acc: 0.9334 - val_loss: 0.2008 - val_acc: 0.9492\n",
      "Epoch 4/50\n",
      "54000/54000 [==============================] - 2s 36us/step - loss: 0.1637 - acc: 0.9551 - val_loss: 0.1768 - val_acc: 0.9555\n",
      "Epoch 5/50\n",
      "54000/54000 [==============================] - 2s 36us/step - loss: 0.1140 - acc: 0.9674 - val_loss: 0.1531 - val_acc: 0.9612\n",
      "Epoch 6/50\n",
      "54000/54000 [==============================] - 2s 37us/step - loss: 0.0831 - acc: 0.9759 - val_loss: 0.1467 - val_acc: 0.9600\n",
      "Epoch 7/50\n",
      "54000/54000 [==============================] - 2s 36us/step - loss: 0.0618 - acc: 0.9827 - val_loss: 0.1472 - val_acc: 0.9632\n",
      "Epoch 8/50\n",
      "54000/54000 [==============================] - 2s 37us/step - loss: 0.0469 - acc: 0.9875 - val_loss: 0.1451 - val_acc: 0.9655\n",
      "Epoch 9/50\n",
      "54000/54000 [==============================] - 2s 37us/step - loss: 0.0368 - acc: 0.9909 - val_loss: 0.1496 - val_acc: 0.9652\n",
      "Epoch 10/50\n",
      "54000/54000 [==============================] - 2s 38us/step - loss: 0.0292 - acc: 0.9936 - val_loss: 0.1506 - val_acc: 0.9648\n",
      "Epoch 11/50\n",
      "54000/54000 [==============================] - 2s 36us/step - loss: 0.0237 - acc: 0.9954 - val_loss: 0.1499 - val_acc: 0.9660\n",
      "Epoch 12/50\n",
      "54000/54000 [==============================] - 2s 37us/step - loss: 0.0198 - acc: 0.9968 - val_loss: 0.1546 - val_acc: 0.9678\n",
      "Epoch 13/50\n",
      "54000/54000 [==============================] - 2s 38us/step - loss: 0.0165 - acc: 0.9977 - val_loss: 0.1544 - val_acc: 0.9655\n",
      "Epoch 14/50\n",
      "54000/54000 [==============================] - 2s 39us/step - loss: 0.0141 - acc: 0.9984 - val_loss: 0.1528 - val_acc: 0.9673\n",
      "Epoch 15/50\n",
      "54000/54000 [==============================] - 2s 38us/step - loss: 0.0124 - acc: 0.9989 - val_loss: 0.1588 - val_acc: 0.9663\n",
      "Epoch 16/50\n",
      "54000/54000 [==============================] - 2s 37us/step - loss: 0.0112 - acc: 0.9991 - val_loss: 0.1562 - val_acc: 0.9670\n",
      "Epoch 17/50\n",
      "54000/54000 [==============================] - 2s 37us/step - loss: 0.0102 - acc: 0.9993 - val_loss: 0.1567 - val_acc: 0.9687\n",
      "Epoch 18/50\n",
      "54000/54000 [==============================] - 2s 37us/step - loss: 0.0093 - acc: 0.9995 - val_loss: 0.1580 - val_acc: 0.9673\n",
      "Epoch 19/50\n",
      "54000/54000 [==============================] - 2s 37us/step - loss: 0.0088 - acc: 0.9995 - val_loss: 0.1612 - val_acc: 0.9678\n",
      "Epoch 20/50\n",
      "54000/54000 [==============================] - 2s 37us/step - loss: 0.0084 - acc: 0.9995 - val_loss: 0.1638 - val_acc: 0.9683\n",
      "Epoch 21/50\n",
      "54000/54000 [==============================] - 2s 37us/step - loss: 0.0080 - acc: 0.9996 - val_loss: 0.1636 - val_acc: 0.9677\n",
      "Epoch 22/50\n",
      "54000/54000 [==============================] - 2s 37us/step - loss: 0.0077 - acc: 0.9996 - val_loss: 0.1645 - val_acc: 0.9680\n",
      "Epoch 23/50\n",
      "54000/54000 [==============================] - 2s 37us/step - loss: 0.0075 - acc: 0.9996 - val_loss: 0.1642 - val_acc: 0.9687\n",
      "Epoch 24/50\n",
      "54000/54000 [==============================] - 2s 37us/step - loss: 0.0073 - acc: 0.9996 - val_loss: 0.1649 - val_acc: 0.9682\n",
      "Epoch 25/50\n",
      "54000/54000 [==============================] - 2s 37us/step - loss: 0.0072 - acc: 0.9996 - val_loss: 0.1659 - val_acc: 0.9685\n",
      "Epoch 26/50\n",
      "54000/54000 [==============================] - 2s 37us/step - loss: 0.0071 - acc: 0.9996 - val_loss: 0.1660 - val_acc: 0.9687\n",
      "Epoch 27/50\n",
      "54000/54000 [==============================] - 2s 37us/step - loss: 0.0069 - acc: 0.9996 - val_loss: 0.1670 - val_acc: 0.9685\n",
      "Epoch 28/50\n",
      "54000/54000 [==============================] - 2s 37us/step - loss: 0.0068 - acc: 0.9996 - val_loss: 0.1682 - val_acc: 0.9688\n",
      "Epoch 29/50\n",
      "54000/54000 [==============================] - 2s 37us/step - loss: 0.0067 - acc: 0.9996 - val_loss: 0.1678 - val_acc: 0.9688\n",
      "Epoch 30/50\n",
      "54000/54000 [==============================] - 2s 37us/step - loss: 0.0067 - acc: 0.9996 - val_loss: 0.1692 - val_acc: 0.9690\n",
      "Epoch 31/50\n",
      "54000/54000 [==============================] - 2s 37us/step - loss: 0.0066 - acc: 0.9996 - val_loss: 0.1687 - val_acc: 0.9687\n",
      "Epoch 32/50\n",
      "54000/54000 [==============================] - 2s 37us/step - loss: 0.0065 - acc: 0.9996 - val_loss: 0.1695 - val_acc: 0.9687\n",
      "Epoch 33/50\n",
      "54000/54000 [==============================] - 2s 37us/step - loss: 0.0065 - acc: 0.9996 - val_loss: 0.1695 - val_acc: 0.9693\n",
      "Epoch 34/50\n",
      "54000/54000 [==============================] - 2s 37us/step - loss: 0.0064 - acc: 0.9996 - val_loss: 0.1700 - val_acc: 0.9692\n",
      "Epoch 35/50\n",
      "54000/54000 [==============================] - 2s 37us/step - loss: 0.0064 - acc: 0.9997 - val_loss: 0.1708 - val_acc: 0.9690\n",
      "Epoch 36/50\n",
      "54000/54000 [==============================] - 2s 37us/step - loss: 0.0063 - acc: 0.9997 - val_loss: 0.1708 - val_acc: 0.9692\n",
      "Epoch 37/50\n",
      "54000/54000 [==============================] - 2s 37us/step - loss: 0.0063 - acc: 0.9997 - val_loss: 0.1711 - val_acc: 0.9688\n",
      "Epoch 38/50\n",
      "54000/54000 [==============================] - 2s 37us/step - loss: 0.0062 - acc: 0.9997 - val_loss: 0.1716 - val_acc: 0.9692\n",
      "Epoch 39/50\n",
      "54000/54000 [==============================] - 2s 37us/step - loss: 0.0062 - acc: 0.9997 - val_loss: 0.1719 - val_acc: 0.9693\n",
      "Epoch 40/50\n",
      "54000/54000 [==============================] - 2s 37us/step - loss: 0.0062 - acc: 0.9997 - val_loss: 0.1716 - val_acc: 0.9692\n",
      "Epoch 41/50\n",
      "54000/54000 [==============================] - 2s 37us/step - loss: 0.0061 - acc: 0.9997 - val_loss: 0.1723 - val_acc: 0.9693\n",
      "Epoch 42/50\n",
      "54000/54000 [==============================] - 2s 37us/step - loss: 0.0061 - acc: 0.9997 - val_loss: 0.1726 - val_acc: 0.9688\n",
      "Epoch 43/50\n",
      "54000/54000 [==============================] - 2s 37us/step - loss: 0.0061 - acc: 0.9997 - val_loss: 0.1730 - val_acc: 0.9690\n",
      "Epoch 44/50\n",
      "54000/54000 [==============================] - 2s 37us/step - loss: 0.0061 - acc: 0.9997 - val_loss: 0.1728 - val_acc: 0.9687\n",
      "Epoch 45/50\n",
      "54000/54000 [==============================] - 2s 38us/step - loss: 0.0060 - acc: 0.9997 - val_loss: 0.1729 - val_acc: 0.9692\n",
      "Epoch 46/50\n",
      "54000/54000 [==============================] - 2s 37us/step - loss: 0.0060 - acc: 0.9997 - val_loss: 0.1736 - val_acc: 0.9688\n",
      "Epoch 47/50\n",
      "54000/54000 [==============================] - 2s 38us/step - loss: 0.0060 - acc: 0.9997 - val_loss: 0.1734 - val_acc: 0.9692\n",
      "Epoch 48/50\n",
      "54000/54000 [==============================] - 2s 38us/step - loss: 0.0060 - acc: 0.9997 - val_loss: 0.1739 - val_acc: 0.9690\n",
      "Epoch 49/50\n",
      "54000/54000 [==============================] - 2s 37us/step - loss: 0.0060 - acc: 0.9997 - val_loss: 0.1737 - val_acc: 0.9692\n",
      "Epoch 50/50\n",
      "54000/54000 [==============================] - 2s 37us/step - loss: 0.0059 - acc: 0.9997 - val_loss: 0.1746 - val_acc: 0.9690\n"
     ]
    }
   ],
   "source": [
    "history3 = model3.fit(x_train, y_train, batch_size=100, epochs=50, validation_split=0.1)"
   ]
  },
  {
   "cell_type": "code",
   "execution_count": 126,
   "metadata": {},
   "outputs": [
    {
     "data": {
      "text/plain": [
       "[<matplotlib.lines.Line2D at 0x1e433128>]"
      ]
     },
     "execution_count": 126,
     "metadata": {},
     "output_type": "execute_result"
    },
    {
     "data": {
      "image/png": "[encoded data removed]",
      "text/plain": [
       "<Figure size 432x288 with 1 Axes>"
      ]
     },
     "metadata": {},
     "output_type": "display_data"
    }
   ],
   "source": [
    "plt.plot(history3.history['acc'])"
   ]
  },
  {
   "cell_type": "code",
   "execution_count": 127,
   "metadata": {},
   "outputs": [
    {
     "name": "stdout",
     "output_type": "stream",
     "text": [
      "Test data：\n",
      "             precision    recall  f1-score   support\n",
      "\n",
      "          0       0.97      0.98      0.97       980\n",
      "          1       0.99      0.99      0.99      1135\n",
      "          2       0.97      0.96      0.96      1032\n",
      "          3       0.94      0.95      0.95      1010\n",
      "          4       0.97      0.96      0.97       982\n",
      "          5       0.96      0.95      0.95       892\n",
      "          6       0.97      0.97      0.97       958\n",
      "          7       0.97      0.97      0.97      1028\n",
      "          8       0.95      0.96      0.95       974\n",
      "          9       0.95      0.95      0.95      1009\n",
      "\n",
      "avg / total       0.96      0.96      0.96     10000\n",
      "\n"
     ]
    },
    {
     "data": {
      "text/plain": [
       "0.9641"
      ]
     },
     "execution_count": 127,
     "metadata": {},
     "output_type": "execute_result"
    }
   ],
   "source": [
    "print(\"Test data：\")\n",
    "print(classification_report(y_test.argmax(1), model3.predict(x_test).argmax(1)))\n",
    "metrics.accuracy_score(y_test.argmax(1), model3.predict(x_test).argmax(1))"
   ]
  },
  {
   "cell_type": "markdown",
   "metadata": {},
   "source": [
    "# 神經網路可能會有overfitting的問題，加入dropout跟early stopping來防止"
   ]
  },
  {
   "cell_type": "code",
   "execution_count": 147,
   "metadata": {},
   "outputs": [],
   "source": [
    "from keras.layers import Dropout"
   ]
  },
  {
   "cell_type": "code",
   "execution_count": 210,
   "metadata": {},
   "outputs": [],
   "source": [
    "model4 = Sequential()"
   ]
  },
  {
   "cell_type": "code",
   "execution_count": 211,
   "metadata": {},
   "outputs": [],
   "source": [
    "model4.add(Dense(100,input_dim = 784))\n",
    "model4.add(Activation('relu'))"
   ]
  },
  {
   "cell_type": "code",
   "execution_count": 212,
   "metadata": {},
   "outputs": [],
   "source": [
    "model4.add(Dropout(0.2))"
   ]
  },
  {
   "cell_type": "code",
   "execution_count": 213,
   "metadata": {},
   "outputs": [],
   "source": [
    "model4.add(Dense(500))\n",
    "model4.add(Activation('relu'))"
   ]
  },
  {
   "cell_type": "code",
   "execution_count": 214,
   "metadata": {},
   "outputs": [],
   "source": [
    "model4.add(Dropout(0.2))"
   ]
  },
  {
   "cell_type": "code",
   "execution_count": 215,
   "metadata": {},
   "outputs": [],
   "source": [
    "model4.add(Dense(250))\n",
    "model4.add(Activation('relu'))"
   ]
  },
  {
   "cell_type": "code",
   "execution_count": 216,
   "metadata": {},
   "outputs": [],
   "source": [
    "model4.add(Dropout(0.2))"
   ]
  },
  {
   "cell_type": "code",
   "execution_count": 217,
   "metadata": {},
   "outputs": [],
   "source": [
    "model4.add(Dense(10))\n",
    "model4.add(Activation('softmax'))"
   ]
  },
  {
   "cell_type": "code",
   "execution_count": 218,
   "metadata": {},
   "outputs": [],
   "source": [
    "model4.compile(loss='categorical_crossentropy', optimizer=SGD(lr=0.003),\n",
    "               metrics=['accuracy'])"
   ]
  },
  {
   "cell_type": "code",
   "execution_count": 219,
   "metadata": {},
   "outputs": [
    {
     "name": "stdout",
     "output_type": "stream",
     "text": [
      "_________________________________________________________________\n",
      "Layer (type)                 Output Shape              Param #   \n",
      "=================================================================\n",
      "dense_70 (Dense)             (None, 100)               78500     \n",
      "_________________________________________________________________\n",
      "activation_70 (Activation)   (None, 100)               0         \n",
      "_________________________________________________________________\n",
      "dropout_25 (Dropout)         (None, 100)               0         \n",
      "_________________________________________________________________\n",
      "dense_71 (Dense)             (None, 500)               50500     \n",
      "_________________________________________________________________\n",
      "activation_71 (Activation)   (None, 500)               0         \n",
      "_________________________________________________________________\n",
      "dropout_26 (Dropout)         (None, 500)               0         \n",
      "_________________________________________________________________\n",
      "dense_72 (Dense)             (None, 250)               125250    \n",
      "_________________________________________________________________\n",
      "activation_72 (Activation)   (None, 250)               0         \n",
      "_________________________________________________________________\n",
      "dropout_27 (Dropout)         (None, 250)               0         \n",
      "_________________________________________________________________\n",
      "dense_73 (Dense)             (None, 10)                2510      \n",
      "_________________________________________________________________\n",
      "activation_73 (Activation)   (None, 10)                0         \n",
      "=================================================================\n",
      "Total params: 256,760\n",
      "Trainable params: 256,760\n",
      "Non-trainable params: 0\n",
      "_________________________________________________________________\n"
     ]
    }
   ],
   "source": [
    "model4.summary()"
   ]
  },
  {
   "cell_type": "code",
   "execution_count": 220,
   "metadata": {},
   "outputs": [],
   "source": [
    "from keras.callbacks import EarlyStopping\n",
    "early_stopping = EarlyStopping(monitor='val_loss', patience=5, verbose=2)"
   ]
  },
  {
   "cell_type": "code",
   "execution_count": 221,
   "metadata": {
    "scrolled": false
   },
   "outputs": [
    {
     "name": "stdout",
     "output_type": "stream",
     "text": [
      "Train on 54000 samples, validate on 6000 samples\n",
      "Epoch 1/50\n",
      "54000/54000 [==============================] - 3s 63us/step - loss: 5.4513 - acc: 0.6399 - val_loss: 2.7805 - val_acc: 0.8150\n",
      "Epoch 2/50\n",
      "54000/54000 [==============================] - 3s 50us/step - loss: 2.7380 - acc: 0.8023 - val_loss: 0.8102 - val_acc: 0.9233\n",
      "Epoch 3/50\n",
      "54000/54000 [==============================] - 3s 50us/step - loss: 1.0463 - acc: 0.8615 - val_loss: 0.3190 - val_acc: 0.9317\n",
      "Epoch 4/50\n",
      "54000/54000 [==============================] - 3s 51us/step - loss: 0.6026 - acc: 0.8713 - val_loss: 0.2538 - val_acc: 0.9382\n",
      "Epoch 5/50\n",
      "54000/54000 [==============================] - 3s 51us/step - loss: 0.4619 - acc: 0.8879 - val_loss: 0.2153 - val_acc: 0.9453\n",
      "Epoch 6/50\n",
      "54000/54000 [==============================] - 3s 51us/step - loss: 0.4013 - acc: 0.8994 - val_loss: 0.1956 - val_acc: 0.9498\n",
      "Epoch 7/50\n",
      "54000/54000 [==============================] - 3s 51us/step - loss: 0.3609 - acc: 0.9068 - val_loss: 0.1792 - val_acc: 0.9528\n",
      "Epoch 8/50\n",
      "54000/54000 [==============================] - 3s 50us/step - loss: 0.3262 - acc: 0.9132 - val_loss: 0.1820 - val_acc: 0.9513\n",
      "Epoch 9/50\n",
      "54000/54000 [==============================] - 3s 50us/step - loss: 0.3087 - acc: 0.9168 - val_loss: 0.1651 - val_acc: 0.9537\n",
      "Epoch 10/50\n",
      "54000/54000 [==============================] - 3s 50us/step - loss: 0.2917 - acc: 0.9211 - val_loss: 0.1606 - val_acc: 0.9567\n",
      "Epoch 11/50\n",
      "54000/54000 [==============================] - 3s 50us/step - loss: 0.2728 - acc: 0.9248 - val_loss: 0.1552 - val_acc: 0.9563\n",
      "Epoch 12/50\n",
      "54000/54000 [==============================] - 3s 50us/step - loss: 0.2649 - acc: 0.9271 - val_loss: 0.1541 - val_acc: 0.9597\n",
      "Epoch 13/50\n",
      "54000/54000 [==============================] - 3s 50us/step - loss: 0.2570 - acc: 0.9286 - val_loss: 0.1462 - val_acc: 0.9573\n",
      "Epoch 14/50\n",
      "54000/54000 [==============================] - 3s 51us/step - loss: 0.2440 - acc: 0.9317 - val_loss: 0.1463 - val_acc: 0.9588\n",
      "Epoch 15/50\n",
      "54000/54000 [==============================] - 3s 51us/step - loss: 0.2315 - acc: 0.9354 - val_loss: 0.1400 - val_acc: 0.9608\n",
      "Epoch 16/50\n",
      "54000/54000 [==============================] - 3s 50us/step - loss: 0.2279 - acc: 0.9353 - val_loss: 0.1380 - val_acc: 0.9615\n",
      "Epoch 17/50\n",
      "54000/54000 [==============================] - 3s 52us/step - loss: 0.2188 - acc: 0.9366 - val_loss: 0.1306 - val_acc: 0.9642\n",
      "Epoch 18/50\n",
      "54000/54000 [==============================] - 3s 52us/step - loss: 0.2149 - acc: 0.9389 - val_loss: 0.1307 - val_acc: 0.9638\n",
      "Epoch 19/50\n",
      "54000/54000 [==============================] - 3s 52us/step - loss: 0.2070 - acc: 0.9409 - val_loss: 0.1299 - val_acc: 0.9637\n",
      "Epoch 20/50\n",
      "54000/54000 [==============================] - 3s 52us/step - loss: 0.2064 - acc: 0.9418 - val_loss: 0.1267 - val_acc: 0.9633\n",
      "Epoch 21/50\n",
      "54000/54000 [==============================] - 3s 53us/step - loss: 0.1969 - acc: 0.9431 - val_loss: 0.1239 - val_acc: 0.9650\n",
      "Epoch 22/50\n",
      "54000/54000 [==============================] - 3s 53us/step - loss: 0.1941 - acc: 0.9440 - val_loss: 0.1240 - val_acc: 0.9647\n",
      "Epoch 23/50\n",
      "54000/54000 [==============================] - 3s 53us/step - loss: 0.1878 - acc: 0.9453 - val_loss: 0.1210 - val_acc: 0.9643\n",
      "Epoch 24/50\n",
      "54000/54000 [==============================] - 3s 53us/step - loss: 0.1849 - acc: 0.9465 - val_loss: 0.1213 - val_acc: 0.9643\n",
      "Epoch 25/50\n",
      "54000/54000 [==============================] - 3s 53us/step - loss: 0.1865 - acc: 0.9457 - val_loss: 0.1160 - val_acc: 0.9672\n",
      "Epoch 26/50\n",
      "54000/54000 [==============================] - 3s 52us/step - loss: 0.1791 - acc: 0.9481 - val_loss: 0.1152 - val_acc: 0.9665\n",
      "Epoch 27/50\n",
      "54000/54000 [==============================] - 3s 53us/step - loss: 0.1819 - acc: 0.9472 - val_loss: 0.1162 - val_acc: 0.9668\n",
      "Epoch 28/50\n",
      "54000/54000 [==============================] - 3s 53us/step - loss: 0.1743 - acc: 0.9496 - val_loss: 0.1148 - val_acc: 0.9672\n",
      "Epoch 29/50\n",
      "54000/54000 [==============================] - 3s 53us/step - loss: 0.1704 - acc: 0.9503 - val_loss: 0.1115 - val_acc: 0.9675\n",
      "Epoch 30/50\n",
      "54000/54000 [==============================] - 3s 53us/step - loss: 0.1627 - acc: 0.9514 - val_loss: 0.1117 - val_acc: 0.9688\n",
      "Epoch 31/50\n",
      "54000/54000 [==============================] - 3s 54us/step - loss: 0.1589 - acc: 0.9518 - val_loss: 0.1101 - val_acc: 0.9678\n",
      "Epoch 32/50\n",
      "54000/54000 [==============================] - 3s 53us/step - loss: 0.1607 - acc: 0.9533 - val_loss: 0.1096 - val_acc: 0.9687\n",
      "Epoch 33/50\n",
      "54000/54000 [==============================] - 3s 54us/step - loss: 0.1540 - acc: 0.9539 - val_loss: 0.1085 - val_acc: 0.9688\n",
      "Epoch 34/50\n",
      "54000/54000 [==============================] - 3s 53us/step - loss: 0.1559 - acc: 0.9542 - val_loss: 0.1073 - val_acc: 0.9683\n",
      "Epoch 35/50\n",
      "54000/54000 [==============================] - 3s 53us/step - loss: 0.1528 - acc: 0.9537 - val_loss: 0.1067 - val_acc: 0.9678\n",
      "Epoch 36/50\n",
      "54000/54000 [==============================] - 3s 53us/step - loss: 0.1532 - acc: 0.9549 - val_loss: 0.1075 - val_acc: 0.9702\n",
      "Epoch 37/50\n",
      "54000/54000 [==============================] - 3s 53us/step - loss: 0.1485 - acc: 0.9563 - val_loss: 0.1055 - val_acc: 0.9700\n",
      "Epoch 38/50\n",
      "54000/54000 [==============================] - 3s 53us/step - loss: 0.1418 - acc: 0.9575 - val_loss: 0.1033 - val_acc: 0.9700\n",
      "Epoch 39/50\n",
      "54000/54000 [==============================] - 3s 53us/step - loss: 0.1437 - acc: 0.9567 - val_loss: 0.1042 - val_acc: 0.9693\n",
      "Epoch 40/50\n",
      "54000/54000 [==============================] - 3s 52us/step - loss: 0.1437 - acc: 0.9577 - val_loss: 0.1040 - val_acc: 0.9703\n",
      "Epoch 41/50\n",
      "54000/54000 [==============================] - 3s 53us/step - loss: 0.1391 - acc: 0.9584 - val_loss: 0.1013 - val_acc: 0.9692\n",
      "Epoch 42/50\n",
      "54000/54000 [==============================] - 3s 53us/step - loss: 0.1377 - acc: 0.9588 - val_loss: 0.1029 - val_acc: 0.9693\n",
      "Epoch 43/50\n",
      "54000/54000 [==============================] - 3s 54us/step - loss: 0.1392 - acc: 0.9583 - val_loss: 0.1048 - val_acc: 0.9697\n",
      "Epoch 44/50\n",
      "54000/54000 [==============================] - 3s 55us/step - loss: 0.1343 - acc: 0.9592 - val_loss: 0.1005 - val_acc: 0.9713\n",
      "Epoch 45/50\n",
      "54000/54000 [==============================] - 3s 53us/step - loss: 0.1335 - acc: 0.9604 - val_loss: 0.1019 - val_acc: 0.9705\n",
      "Epoch 46/50\n",
      "54000/54000 [==============================] - 3s 53us/step - loss: 0.1294 - acc: 0.9607 - val_loss: 0.1005 - val_acc: 0.9695\n",
      "Epoch 47/50\n",
      "54000/54000 [==============================] - 3s 53us/step - loss: 0.1281 - acc: 0.9610 - val_loss: 0.1019 - val_acc: 0.9682\n",
      "Epoch 48/50\n",
      "54000/54000 [==============================] - 3s 52us/step - loss: 0.1278 - acc: 0.9616 - val_loss: 0.1016 - val_acc: 0.9697\n",
      "Epoch 49/50\n",
      "54000/54000 [==============================] - 3s 53us/step - loss: 0.1292 - acc: 0.9608 - val_loss: 0.1011 - val_acc: 0.9715\n",
      "Epoch 50/50\n",
      "54000/54000 [==============================] - 3s 53us/step - loss: 0.1266 - acc: 0.9625 - val_loss: 0.1008 - val_acc: 0.9705\n"
     ]
    }
   ],
   "source": [
    "history4 = model4.fit(x_train, y_train, batch_size=100, epochs=50, validation_split=0.1, callbacks=[early_stopping])"
   ]
  },
  {
   "cell_type": "markdown",
   "metadata": {},
   "source": [
    "### 雖然train data時的表現看似變差了，但對validation跟test data的效果較好"
   ]
  },
  {
   "cell_type": "code",
   "execution_count": 222,
   "metadata": {},
   "outputs": [
    {
     "name": "stdout",
     "output_type": "stream",
     "text": [
      "Test data：\n",
      "             precision    recall  f1-score   support\n",
      "\n",
      "          0       0.98      0.99      0.98       980\n",
      "          1       0.98      0.99      0.99      1135\n",
      "          2       0.96      0.97      0.97      1032\n",
      "          3       0.95      0.97      0.96      1010\n",
      "          4       0.96      0.97      0.97       982\n",
      "          5       0.96      0.94      0.95       892\n",
      "          6       0.96      0.97      0.97       958\n",
      "          7       0.97      0.96      0.96      1028\n",
      "          8       0.96      0.95      0.96       974\n",
      "          9       0.97      0.94      0.95      1009\n",
      "\n",
      "avg / total       0.97      0.97      0.97     10000\n",
      "\n"
     ]
    },
    {
     "data": {
      "text/plain": [
       "0.9667"
      ]
     },
     "execution_count": 222,
     "metadata": {},
     "output_type": "execute_result"
    }
   ],
   "source": [
    "print(\"Test data：\")\n",
    "print(classification_report(y_test.argmax(1), model4.predict(x_test).argmax(1)))\n",
    "metrics.accuracy_score(y_test.argmax(1), model4.predict(x_test).argmax(1))"
   ]
  },
  {
   "cell_type": "markdown",
   "metadata": {},
   "source": [
    "# 互動小程式可以觀察神經網路預測每筆資料的成果"
   ]
  },
  {
   "cell_type": "code",
   "execution_count": 223,
   "metadata": {},
   "outputs": [],
   "source": [
    "from ipywidgets import interact"
   ]
  },
  {
   "cell_type": "code",
   "execution_count": 224,
   "metadata": {},
   "outputs": [],
   "source": [
    "predict = model4.predict_classes(x_test)"
   ]
  },
  {
   "cell_type": "code",
   "execution_count": 225,
   "metadata": {},
   "outputs": [],
   "source": [
    "def test(測試編號):\n",
    "    plt.imshow(x_test[測試編號].reshape(28,28), cmap='Greys')\n",
    "    print('原本給的label為：', y_test.argmax(1)[測試編號])\n",
    "    print('神經網路判斷為:',predict[測試編號])"
   ]
  },
  {
   "cell_type": "code",
   "execution_count": 226,
   "metadata": {},
   "outputs": [
    {
     "data": {
      "application/vnd.jupyter.widget-view+json": {
       "model_id": "89a8cc946aa74167a64d6eacd63f714d",
       "version_major": 2,
       "version_minor": 0
      },
      "text/plain": [
       "interactive(children=(IntSlider(value=4999, description='測試編號', max=9999), Output()), _dom_classes=('widget-in…"
      ]
     },
     "metadata": {},
     "output_type": "display_data"
    },
    {
     "data": {
      "text/plain": [
       "<function __main__.test(測試編號)>"
      ]
     },
     "execution_count": 226,
     "metadata": {},
     "output_type": "execute_result"
    }
   ],
   "source": [
    "interact(test, 測試編號=(0,9999))"
   ]
  },
  {
   "cell_type": "markdown",
   "metadata": {},
   "source": [
    "# 將訓練好的神經網路存起來"
   ]
  },
  {
   "cell_type": "code",
   "execution_count": 227,
   "metadata": {},
   "outputs": [],
   "source": [
    "model_json = model.to_json()\n",
    "open('hand_writing.json', 'w').write(model_json)\n",
    "model.save_weights('hand_writing_weight.h5')"
   ]
  },
  {
   "cell_type": "code",
   "execution_count": null,
   "metadata": {},
   "outputs": [],
   "source": []
  }
 ],
 "metadata": {
  "kernelspec": {
   "display_name": "Python 3",
   "language": "python",
   "name": "python3"
  },
  "language_info": {
   "codemirror_mode": {
    "name": "ipython",
    "version": 3
   },
   "file_extension": ".py",
   "mimetype": "text/x-python",
   "name": "python",
   "nbconvert_exporter": "python",
   "pygments_lexer": "ipython3",
   "version": "3.5.5"
  }
 },
 "nbformat": 4,
 "nbformat_minor": 2
}
